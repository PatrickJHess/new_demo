{
 "cells": [
  {
   "cell_type": "markdown",
   "metadata": {
    "id": "YkARvG5t1ZtZ"
   },
   "source": [
    "<img src='https://docs.google.com/drawings/d/e/2PACX-1vQCLdzfcNWNyQa8poL9IszNfgvM8VB93eblATcEjTgrc6MJTFTncZKsUJ5LmU_GxFgmpOsPYxEzEJGj/pub?w=960&h=720'>"
   ]
  },
  {
   "cell_type": "markdown",
   "metadata": {
    "id": "2XbSTuNyHjad",
    "tags": []
   },
   "source": [
    "# ***Pandas***\n",
    "## A DataFrame, reminiscent of a spreadsheet, is the primary object in Pandas. Data is organized into tables with columns and rows, that can be manipulated similar to a spreadsheet. Depending on your notebook, you may need to install Pandas before importing it.\n",
    "\n",
    "## The example code cell below uses a <font color='green'>try</font> and <font color='green'>except</font> code block to import Pandas and assigns<br> it the common alias <font color='green'>pd</font>.$^{1}$\n",
    "\n",
    "---\n",
    "### $^{1}$ An introduction to <font color='green'>try</font> and <font color='green'>except</font> code blocks <a href='https://colab.research.google.com/drive/1_U6FtHZjbjMtBRYrULipP2jnwKis4qgM?usp=sharing'>The Notebook Control Statements In The Library</a>\n",
    "\n"
   ]
  },
  {
   "cell_type": "code",
   "execution_count": 1,
   "metadata": {
    "id": "xzjXqKw3Fc_z"
   },
   "outputs": [],
   "source": [
    "try:\n",
    "  import pandas as pd\n",
    "except:\n",
    "  !pip install pandas\n",
    "  import pandas as pd"
   ]
  },
  {
   "cell_type": "markdown",
   "metadata": {
    "id": "PiH69PBSOowF"
   },
   "source": [
    "## ***Creating Or Instantiating A DataFrame***"
   ]
  },
  {
   "cell_type": "markdown",
   "metadata": {
    "id": "F178ECuQO1mw",
    "tags": []
   },
   "source": [
    "### ***A Bare Bones DataFrame***\n",
    "#### The first Pandas method demonstrated is <font color='green'>DataFrame()</font>.  The required arguments of the method are<br> the data that must be an iterable: e.g. a list or a dictionary.$^{2}$  Here the DataFrame <font color='green'>df_bare_bones</font> is <br>created with two simple lists: <font color='green'>x</font> and <font color='green'>y</font>.\n",
    "---\n",
    "#### $^{1.}$ If you need a little help with this concept check out the notebooks [Lists](https://colab.research.google.com/drive/14ieLqX8VoBMmHGeejw3lbHAYIEXTxk2a) or [Dictionaires](https://colab.research.google.com/drive/1xGcImigTwgiAlYBHdHG44KH3i3IS6Prr#scrollTo=9Gg8RVZ0aphR)\n"
   ]
  },
  {
   "cell_type": "code",
   "execution_count": 2,
   "metadata": {
    "colab": {
     "base_uri": "https://localhost:8080/",
     "height": 125
    },
    "id": "3_aNoyD_LfsO",
    "outputId": "f62ef913-51fb-4384-bf2c-7a85a6e333cb"
   },
   "outputs": [
    {
     "data": {
      "text/html": [
       "<div>\n",
       "<style scoped>\n",
       "    .dataframe tbody tr th:only-of-type {\n",
       "        vertical-align: middle;\n",
       "    }\n",
       "\n",
       "    .dataframe tbody tr th {\n",
       "        vertical-align: top;\n",
       "    }\n",
       "\n",
       "    .dataframe thead th {\n",
       "        text-align: right;\n",
       "    }\n",
       "</style>\n",
       "<table border=\"1\" class=\"dataframe\">\n",
       "  <thead>\n",
       "    <tr style=\"text-align: right;\">\n",
       "      <th></th>\n",
       "      <th>0</th>\n",
       "      <th>1</th>\n",
       "      <th>2</th>\n",
       "    </tr>\n",
       "  </thead>\n",
       "  <tbody>\n",
       "    <tr>\n",
       "      <th>0</th>\n",
       "      <td>1</td>\n",
       "      <td>2</td>\n",
       "      <td>3</td>\n",
       "    </tr>\n",
       "    <tr>\n",
       "      <th>1</th>\n",
       "      <td>4</td>\n",
       "      <td>5</td>\n",
       "      <td>6</td>\n",
       "    </tr>\n",
       "  </tbody>\n",
       "</table>\n",
       "</div>"
      ],
      "text/plain": [
       "   0  1  2\n",
       "0  1  2  3\n",
       "1  4  5  6"
      ]
     },
     "execution_count": 2,
     "metadata": {},
     "output_type": "execute_result"
    }
   ],
   "source": [
    "x=[1,2,3]\n",
    "y=[4,5,6]\n",
    "df_bare_bones=pd.DataFrame([x,y])\n",
    "df_bare_bones"
   ]
  },
  {
   "cell_type": "markdown",
   "metadata": {
    "id": "8U3QBe5VUDjY"
   },
   "source": [
    "### ***Adding Labels For Columns And Rows***\n",
    "#### <font color='green'>df_bare_bones</font> is a table, but it's not very useful.  The first improvement is to provide labels for the<br> columns and the rows.  Both are attributes of <font color='green'>df_bare_bones</font> and the values have been<br> assigned by Pandas.  The column attribute is referred to as <font color='green'>columns</font> and the row attribute<br> as <font color='green'>index</font>. As with all objects, these attributes can be accessed using a dot after the<br> object's name. In this case, the <font color='green'>columns</font> attribute is assigned the list <font color='green'>['First', 'Second', 'Third']</font>,<br> and the <font color='green'>rows</font> attribute is assigned the list <font color='green'>['x', 'y']</font>."
   ]
  },
  {
   "cell_type": "code",
   "execution_count": 3,
   "metadata": {
    "colab": {
     "base_uri": "https://localhost:8080/",
     "height": 125
    },
    "id": "7FCn2_TuSDlz",
    "outputId": "28e58362-c508-4c49-860b-7c9fe8de255e"
   },
   "outputs": [
    {
     "data": {
      "text/html": [
       "<div>\n",
       "<style scoped>\n",
       "    .dataframe tbody tr th:only-of-type {\n",
       "        vertical-align: middle;\n",
       "    }\n",
       "\n",
       "    .dataframe tbody tr th {\n",
       "        vertical-align: top;\n",
       "    }\n",
       "\n",
       "    .dataframe thead th {\n",
       "        text-align: right;\n",
       "    }\n",
       "</style>\n",
       "<table border=\"1\" class=\"dataframe\">\n",
       "  <thead>\n",
       "    <tr style=\"text-align: right;\">\n",
       "      <th></th>\n",
       "      <th>First</th>\n",
       "      <th>Second</th>\n",
       "      <th>Third</th>\n",
       "    </tr>\n",
       "  </thead>\n",
       "  <tbody>\n",
       "    <tr>\n",
       "      <th>x</th>\n",
       "      <td>1</td>\n",
       "      <td>2</td>\n",
       "      <td>3</td>\n",
       "    </tr>\n",
       "    <tr>\n",
       "      <th>y</th>\n",
       "      <td>4</td>\n",
       "      <td>5</td>\n",
       "      <td>6</td>\n",
       "    </tr>\n",
       "  </tbody>\n",
       "</table>\n",
       "</div>"
      ],
      "text/plain": [
       "   First  Second  Third\n",
       "x      1       2      3\n",
       "y      4       5      6"
      ]
     },
     "execution_count": 3,
     "metadata": {},
     "output_type": "execute_result"
    }
   ],
   "source": [
    "df_bare_bones.columns=['First','Second','Third']\n",
    "df_bare_bones.index=['x','y']\n",
    "df_bare_bones"
   ]
  },
  {
   "cell_type": "markdown",
   "metadata": {
    "id": "EwT7NalhYXTN"
   },
   "source": [
    "### ***Including The Labels As Arguments Of DataFrame()***\n",
    "#### Here the values assigned to the <font color='green'>columns</font> and <font color='green'>index</font> attributes are arguments of the method.<br>  Because the attributes are not variables of the notebook, the names assigned may be the<br> same as the attributes.\n"
   ]
  },
  {
   "cell_type": "code",
   "execution_count": 4,
   "metadata": {
    "colab": {
     "base_uri": "https://localhost:8080/",
     "height": 125
    },
    "id": "6KzgPQMOXKY5",
    "outputId": "98d47e92-716b-4338-980f-ca2acbea73cd"
   },
   "outputs": [
    {
     "data": {
      "text/html": [
       "<div>\n",
       "<style scoped>\n",
       "    .dataframe tbody tr th:only-of-type {\n",
       "        vertical-align: middle;\n",
       "    }\n",
       "\n",
       "    .dataframe tbody tr th {\n",
       "        vertical-align: top;\n",
       "    }\n",
       "\n",
       "    .dataframe thead th {\n",
       "        text-align: right;\n",
       "    }\n",
       "</style>\n",
       "<table border=\"1\" class=\"dataframe\">\n",
       "  <thead>\n",
       "    <tr style=\"text-align: right;\">\n",
       "      <th></th>\n",
       "      <th>First</th>\n",
       "      <th>Second</th>\n",
       "      <th>Third</th>\n",
       "    </tr>\n",
       "  </thead>\n",
       "  <tbody>\n",
       "    <tr>\n",
       "      <th>x</th>\n",
       "      <td>1</td>\n",
       "      <td>2</td>\n",
       "      <td>3</td>\n",
       "    </tr>\n",
       "    <tr>\n",
       "      <th>y</th>\n",
       "      <td>4</td>\n",
       "      <td>5</td>\n",
       "      <td>6</td>\n",
       "    </tr>\n",
       "  </tbody>\n",
       "</table>\n",
       "</div>"
      ],
      "text/plain": [
       "   First  Second  Third\n",
       "x      1       2      3\n",
       "y      4       5      6"
      ]
     },
     "execution_count": 4,
     "metadata": {},
     "output_type": "execute_result"
    }
   ],
   "source": [
    "columns=['First','Second','Third']\n",
    "index=['x','y']\n",
    "df_bare_bones=pd.DataFrame([x,y],columns=columns,index=index)\n",
    "df_bare_bones"
   ]
  },
  {
   "cell_type": "markdown",
   "metadata": {
    "id": "x-LMSnw7kDzX"
   },
   "source": [
    "### ***Iterating Through The Columns And Index***\n",
    "#### The values of rows and columns can be accessed by iterating through a DataFrame's <font color='green'>columns</font><br> or <font color='green'>index</font>.  Here the values of the labels of <font color='green'>columns</font> and <font color='green'>index</font> are printed."
   ]
  },
  {
   "cell_type": "code",
   "execution_count": 5,
   "metadata": {
    "colab": {
     "base_uri": "https://localhost:8080/"
    },
    "id": "Kg8D1d-WZ452",
    "outputId": "7f802e35-8525-40e8-8798-7a39ea57c657"
   },
   "outputs": [
    {
     "name": "stdout",
     "output_type": "stream",
     "text": [
      "First\n",
      "Second\n",
      "Third\n",
      "x\n",
      "y\n"
     ]
    }
   ],
   "source": [
    "for column in df_bare_bones.columns:\n",
    "  print(column)\n",
    "for index in df_bare_bones.index:\n",
    "  print(index)"
   ]
  },
  {
   "cell_type": "markdown",
   "metadata": {
    "id": "zQXnoJOKk9cS",
    "tags": []
   },
   "source": [
    "### ***The loc and iloc Attributes***\n",
    "#### A row of A DataFrame is identified with the <font color='green'>loc</font> or <font color='green'>iloc</font> attribute.  The <font color='green'>loc</font> attribute uses<br> the value of the <font color='green'>index</font>; in our example 'x' or 'y'.  The <font color='green'>iloc</font> attribute uses the location of the row<br> in the <font color='green'>index</font>; in our example, 0 or 1.\n",
    "\n",
    "#### In the next code cell the values of 'First' column are printed by iterating through the index with loc.\n",
    "\n"
   ]
  },
  {
   "cell_type": "markdown",
   "metadata": {
    "id": "bIZcgO80pKM6"
   },
   "source": [
    "#### ***loc Attribute***"
   ]
  },
  {
   "cell_type": "code",
   "execution_count": 6,
   "metadata": {
    "colab": {
     "base_uri": "https://localhost:8080/"
    },
    "id": "TeLLqgDFaZ5D",
    "outputId": "7c463c69-a633-4916-b244-62d12523179b"
   },
   "outputs": [
    {
     "name": "stdout",
     "output_type": "stream",
     "text": [
      "1\n",
      "4\n"
     ]
    }
   ],
   "source": [
    "for index in df_bare_bones.index:\n",
    "  print(df_bare_bones.loc[index]['First'])"
   ]
  },
  {
   "cell_type": "markdown",
   "metadata": {
    "id": "nNvHz8GLmkaQ"
   },
   "source": [
    "#### The <font color='green'>iloc</font> example uses the <font color='green'>index</font> values of 0 and 1 to print the value of 'Second' column.<br>  The <font color='green'>iloc</font> attribute requires the <font color='green'>enumerate</font> function of Python that keeps track of the number<br> of iterations.$^{3}$  The row is then fixed with <font color='green'>loc</font> and the columns are iterated through to show all<br> the values of the list <font color='green'>x</font>.\n",
    "\n",
    "---\n",
    "##### $^{3.}$ [Gemini](https://www.google.com/search?q=enumerate+python&sca_esv=4c9a68065c6f5352&sxsrf=AHTn8zpFQrffBo7A1DtDquPAIbCumB4tUQ%3A1742055832997&ei=mKnVZ9bRPKvJwN4P857-qAo&oq=enumerate+fpython&gs_lp=Egxnd3Mtd2l6LXNlcnAiEWVudW1lcmF0ZSBmcHl0aG9uKgIIATIGEAAYBxgeMgoQABiABBixAxgNMgYQABgHGB4yBhAAGAcYHjIGEAAYBxgeMgYQABgHGB4yBhAAGAcYHjIHEAAYgAQYDTIHEAAYgAQYDTIGEAAYBxgeSO1BUKguWKgucAN4AZABAJgBXKABXKoBATG4AQHIAQD4AQGYAgSgAoIBwgIKEAAYsAMY1gQYR8ICDRAAGIAEGLADGEMYigXCAhMQLhiABBiwAxjRAxhDGMcBGIoFmAMAiAYBkAYKkgcDMy4xoAfuBg&sclient=gws-wiz-serp) provides a nice explanation of the <font color='green'>enumerate</font> function."
   ]
  },
  {
   "cell_type": "markdown",
   "metadata": {
    "id": "fLlMcMR_pUMS"
   },
   "source": [
    "#### ***iloc Attribute***"
   ]
  },
  {
   "cell_type": "code",
   "execution_count": 7,
   "metadata": {
    "colab": {
     "base_uri": "https://localhost:8080/"
    },
    "id": "FWjgdGJIeMmj",
    "outputId": "9d624ffa-e23f-4731-c52c-a16ec8ccd3a6"
   },
   "outputs": [
    {
     "name": "stdout",
     "output_type": "stream",
     "text": [
      "2\n",
      "5\n"
     ]
    }
   ],
   "source": [
    "for row,index in enumerate(df_bare_bones.index):\n",
    "  print(df_bare_bones.iloc[row]['Second'])"
   ]
  },
  {
   "cell_type": "markdown",
   "metadata": {
    "id": "trcSFcCapYZE"
   },
   "source": [
    "### ***Locate A Row With An Index Value***\n",
    "#### The <font color='green'>get_indexer()</font> method locates the row number of the <font color='green'>index</font> from a value.  If the label is not present, minus one is returned. The value must be an iterable.  Here it is a list.\n"
   ]
  },
  {
   "cell_type": "code",
   "execution_count": 8,
   "metadata": {
    "colab": {
     "base_uri": "https://localhost:8080/"
    },
    "id": "WSlaNCfZoI3C",
    "outputId": "9407c8a0-3385-4483-d28b-a0f9fdcb90a0"
   },
   "outputs": [
    {
     "data": {
      "text/plain": [
       "array([ 0, -1])"
      ]
     },
     "execution_count": 8,
     "metadata": {},
     "output_type": "execute_result"
    }
   ],
   "source": [
    "index_values=df_bare_bones.index.get_indexer(['x','z'])\n",
    "index_values"
   ]
  },
  {
   "cell_type": "code",
   "execution_count": 9,
   "metadata": {
    "colab": {
     "base_uri": "https://localhost:8080/",
     "height": 178
    },
    "id": "xoZ1yLpnPx1i",
    "outputId": "e540dfd1-485d-427d-c0cf-be784764d612"
   },
   "outputs": [
    {
     "data": {
      "text/plain": [
       "First     1\n",
       "Second    2\n",
       "Third     3\n",
       "Name: x, dtype: int64"
      ]
     },
     "execution_count": 9,
     "metadata": {},
     "output_type": "execute_result"
    }
   ],
   "source": [
    "df_bare_bones.iloc[index_values[0]]"
   ]
  },
  {
   "cell_type": "code",
   "execution_count": 10,
   "metadata": {
    "colab": {
     "base_uri": "https://localhost:8080/"
    },
    "id": "df2V-LdgJ62W",
    "outputId": "030a4bdb-9c97-463c-d08e-84c3250fe3a9"
   },
   "outputs": [
    {
     "name": "stdout",
     "output_type": "stream",
     "text": [
      "-1\n"
     ]
    }
   ],
   "source": [
    "try:loc=df_excel_new_index.index.get_loc(-114.00)\n",
    "except:loc=-1\n",
    "print(loc)"
   ]
  },
  {
   "cell_type": "markdown",
   "metadata": {
    "id": "onaKi6Dsoe84"
   },
   "source": [
    "#### ***Fixing The Row With <font color='green'>loc</font> And Iterating Through The Columns.***"
   ]
  },
  {
   "cell_type": "code",
   "execution_count": 11,
   "metadata": {
    "colab": {
     "base_uri": "https://localhost:8080/"
    },
    "id": "FeMOBwPBerou",
    "outputId": "ad4be6ef-aa6f-483d-81c8-b4972032269b"
   },
   "outputs": [
    {
     "name": "stdout",
     "output_type": "stream",
     "text": [
      "1\n",
      "2\n",
      "3\n"
     ]
    }
   ],
   "source": [
    "for column in df_bare_bones.columns:\n",
    "  print(df_bare_bones.loc['x'][column])"
   ]
  },
  {
   "cell_type": "markdown",
   "metadata": {
    "id": "NogP1uzIN9o0"
   },
   "source": [
    "### ***Create A DataFrame From A Dictionary***\n",
    "#### It's convenient to create a DataFrame from a dictionary.  Dictionaries are key-value pairs.$^{4}$<br> The keys are interpreted as column names, and the values are the data assigned to those columns.<br> In this example, the 'Value Of X' and 'Value Of Y' columns are assigned the lists <font color='green'>x</font> and <font color='green'>y</font>, respectively.\n",
    "\n",
    "\n",
    "\n",
    "---\n",
    "#####  $^{4}$ For an introduction to dictionaries see <a href='https://colab.research.google.com/drive/1xGcImigTwgiAlYBHdHG44KH3i3IS6Prr?usp=sharing'>Dictionaries Notebook</a>.\n"
   ]
  },
  {
   "cell_type": "code",
   "execution_count": 12,
   "metadata": {
    "colab": {
     "base_uri": "https://localhost:8080/",
     "height": 143
    },
    "id": "Syk9_aLeN9o1",
    "outputId": "76c2bac9-68c2-4685-be59-68fab6cc577f"
   },
   "outputs": [
    {
     "data": {
      "text/html": [
       "<div>\n",
       "<style scoped>\n",
       "    .dataframe tbody tr th:only-of-type {\n",
       "        vertical-align: middle;\n",
       "    }\n",
       "\n",
       "    .dataframe tbody tr th {\n",
       "        vertical-align: top;\n",
       "    }\n",
       "\n",
       "    .dataframe thead th {\n",
       "        text-align: right;\n",
       "    }\n",
       "</style>\n",
       "<table border=\"1\" class=\"dataframe\">\n",
       "  <thead>\n",
       "    <tr style=\"text-align: right;\">\n",
       "      <th></th>\n",
       "      <th>Values of x</th>\n",
       "      <th>Values of y</th>\n",
       "    </tr>\n",
       "  </thead>\n",
       "  <tbody>\n",
       "    <tr>\n",
       "      <th>First</th>\n",
       "      <td>1</td>\n",
       "      <td>4</td>\n",
       "    </tr>\n",
       "    <tr>\n",
       "      <th>Second</th>\n",
       "      <td>2</td>\n",
       "      <td>5</td>\n",
       "    </tr>\n",
       "    <tr>\n",
       "      <th>Third</th>\n",
       "      <td>3</td>\n",
       "      <td>6</td>\n",
       "    </tr>\n",
       "  </tbody>\n",
       "</table>\n",
       "</div>"
      ],
      "text/plain": [
       "        Values of x  Values of y\n",
       "First             1            4\n",
       "Second            2            5\n",
       "Third             3            6"
      ]
     },
     "execution_count": 12,
     "metadata": {},
     "output_type": "execute_result"
    }
   ],
   "source": [
    "#Pandas method DataFrame() with the sole argument the dictionary data\n",
    "data={'Values of x':[1,2,3],'Values of y':[4,5,6]}\n",
    "df_dict=pd.DataFrame(data,index=columns)\n",
    "df_dict"
   ]
  },
  {
   "cell_type": "markdown",
   "metadata": {
    "id": "Lcvbd_vk-y_j"
   },
   "source": [
    "### ***Add A Column***\n"
   ]
  },
  {
   "cell_type": "markdown",
   "metadata": {
    "id": "k1xPNzglBDEy"
   },
   "source": [
    "#### ***Assign A List To The New Column 'Values of z'***"
   ]
  },
  {
   "cell_type": "code",
   "execution_count": 13,
   "metadata": {
    "colab": {
     "base_uri": "https://localhost:8080/",
     "height": 143
    },
    "id": "NPnaEGNB_zry",
    "outputId": "cfde1f41-2104-4d9a-d1a2-ddf5a2fb9177"
   },
   "outputs": [
    {
     "data": {
      "text/html": [
       "<div>\n",
       "<style scoped>\n",
       "    .dataframe tbody tr th:only-of-type {\n",
       "        vertical-align: middle;\n",
       "    }\n",
       "\n",
       "    .dataframe tbody tr th {\n",
       "        vertical-align: top;\n",
       "    }\n",
       "\n",
       "    .dataframe thead th {\n",
       "        text-align: right;\n",
       "    }\n",
       "</style>\n",
       "<table border=\"1\" class=\"dataframe\">\n",
       "  <thead>\n",
       "    <tr style=\"text-align: right;\">\n",
       "      <th></th>\n",
       "      <th>Values of x</th>\n",
       "      <th>Values of y</th>\n",
       "      <th>Values of z</th>\n",
       "    </tr>\n",
       "  </thead>\n",
       "  <tbody>\n",
       "    <tr>\n",
       "      <th>First</th>\n",
       "      <td>1</td>\n",
       "      <td>4</td>\n",
       "      <td>4.5</td>\n",
       "    </tr>\n",
       "    <tr>\n",
       "      <th>Second</th>\n",
       "      <td>2</td>\n",
       "      <td>5</td>\n",
       "      <td>5.5</td>\n",
       "    </tr>\n",
       "    <tr>\n",
       "      <th>Third</th>\n",
       "      <td>3</td>\n",
       "      <td>6</td>\n",
       "      <td>6.5</td>\n",
       "    </tr>\n",
       "  </tbody>\n",
       "</table>\n",
       "</div>"
      ],
      "text/plain": [
       "        Values of x  Values of y  Values of z\n",
       "First             1            4          4.5\n",
       "Second            2            5          5.5\n",
       "Third             3            6          6.5"
      ]
     },
     "execution_count": 13,
     "metadata": {},
     "output_type": "execute_result"
    }
   ],
   "source": [
    "df_dict['Values of z']=[4.5,5.5,6.5]\n",
    "df_dict"
   ]
  },
  {
   "cell_type": "markdown",
   "metadata": {
    "id": "HzVHy4LKBW36"
   },
   "source": [
    "#### ***Assign Three Plus The Column 'Values of y' To The New Column 'Values of z'***"
   ]
  },
  {
   "cell_type": "code",
   "execution_count": 14,
   "metadata": {
    "colab": {
     "base_uri": "https://localhost:8080/",
     "height": 143
    },
    "id": "p21acd4aAIur",
    "outputId": "7fc4fa11-ed1d-48f3-da88-88a967ea37fc"
   },
   "outputs": [
    {
     "data": {
      "text/html": [
       "<div>\n",
       "<style scoped>\n",
       "    .dataframe tbody tr th:only-of-type {\n",
       "        vertical-align: middle;\n",
       "    }\n",
       "\n",
       "    .dataframe tbody tr th {\n",
       "        vertical-align: top;\n",
       "    }\n",
       "\n",
       "    .dataframe thead th {\n",
       "        text-align: right;\n",
       "    }\n",
       "</style>\n",
       "<table border=\"1\" class=\"dataframe\">\n",
       "  <thead>\n",
       "    <tr style=\"text-align: right;\">\n",
       "      <th></th>\n",
       "      <th>Values of x</th>\n",
       "      <th>Values of y</th>\n",
       "      <th>Values of z</th>\n",
       "    </tr>\n",
       "  </thead>\n",
       "  <tbody>\n",
       "    <tr>\n",
       "      <th>First</th>\n",
       "      <td>1</td>\n",
       "      <td>4</td>\n",
       "      <td>7</td>\n",
       "    </tr>\n",
       "    <tr>\n",
       "      <th>Second</th>\n",
       "      <td>2</td>\n",
       "      <td>5</td>\n",
       "      <td>8</td>\n",
       "    </tr>\n",
       "    <tr>\n",
       "      <th>Third</th>\n",
       "      <td>3</td>\n",
       "      <td>6</td>\n",
       "      <td>9</td>\n",
       "    </tr>\n",
       "  </tbody>\n",
       "</table>\n",
       "</div>"
      ],
      "text/plain": [
       "        Values of x  Values of y  Values of z\n",
       "First             1            4            7\n",
       "Second            2            5            8\n",
       "Third             3            6            9"
      ]
     },
     "execution_count": 14,
     "metadata": {},
     "output_type": "execute_result"
    }
   ],
   "source": [
    "df_dict['Values of z']=df_dict['Values of y']+3\n",
    "df_dict"
   ]
  },
  {
   "cell_type": "markdown",
   "metadata": {
    "id": "-dM5rvDtr4Np"
   },
   "source": [
    "### ***The Transpose***\n",
    "#### Because the <font color='green'>DataFrame()</font> method interprets the dictionary keys as column names, <font color='green'>df_dict</font><br> is the transpose of <font color='green'>df_bare_bones</font>.  To that end, the index of <font color='green'>df_dict</font> is assigned the <font color='green'>columns</font><br> list that was assigned as the <font color='green'>columns</font> of <font color='green'>df_bare_bones</font>.  The Pandas method <font color='green'>transpose()</font><br> transposes a DataFrame but does not replace the values.  To keep the transposed <font color='green'>DataFrame</font><br> it must be assigned to another variable. The <font color='green'>transpose</font> method may also be accessed with a capital <font color='green'>T</font>.\n"
   ]
  },
  {
   "cell_type": "markdown",
   "metadata": {
    "id": "fzYndE2aN9o2"
   },
   "source": [
    "##### ***Transpose With Method <font color='green'>transpose()</font>, <font color='green'>T</font> For Shorthand.***"
   ]
  },
  {
   "cell_type": "code",
   "execution_count": 15,
   "metadata": {
    "colab": {
     "base_uri": "https://localhost:8080/",
     "height": 143
    },
    "id": "HoKuDI2nN9o2",
    "outputId": "79ebbe77-a414-45bc-89c4-98d589cbe98f"
   },
   "outputs": [
    {
     "data": {
      "text/html": [
       "<div>\n",
       "<style scoped>\n",
       "    .dataframe tbody tr th:only-of-type {\n",
       "        vertical-align: middle;\n",
       "    }\n",
       "\n",
       "    .dataframe tbody tr th {\n",
       "        vertical-align: top;\n",
       "    }\n",
       "\n",
       "    .dataframe thead th {\n",
       "        text-align: right;\n",
       "    }\n",
       "</style>\n",
       "<table border=\"1\" class=\"dataframe\">\n",
       "  <thead>\n",
       "    <tr style=\"text-align: right;\">\n",
       "      <th></th>\n",
       "      <th>First</th>\n",
       "      <th>Second</th>\n",
       "      <th>Third</th>\n",
       "    </tr>\n",
       "  </thead>\n",
       "  <tbody>\n",
       "    <tr>\n",
       "      <th>Values of x</th>\n",
       "      <td>1</td>\n",
       "      <td>2</td>\n",
       "      <td>3</td>\n",
       "    </tr>\n",
       "    <tr>\n",
       "      <th>Values of y</th>\n",
       "      <td>4</td>\n",
       "      <td>5</td>\n",
       "      <td>6</td>\n",
       "    </tr>\n",
       "    <tr>\n",
       "      <th>Values of z</th>\n",
       "      <td>7</td>\n",
       "      <td>8</td>\n",
       "      <td>9</td>\n",
       "    </tr>\n",
       "  </tbody>\n",
       "</table>\n",
       "</div>"
      ],
      "text/plain": [
       "             First  Second  Third\n",
       "Values of x      1       2      3\n",
       "Values of y      4       5      6\n",
       "Values of z      7       8      9"
      ]
     },
     "execution_count": 15,
     "metadata": {},
     "output_type": "execute_result"
    }
   ],
   "source": [
    "#Use the full name of the method transpose()\n",
    "df_dict.transpose()"
   ]
  },
  {
   "cell_type": "code",
   "execution_count": 16,
   "metadata": {
    "colab": {
     "base_uri": "https://localhost:8080/",
     "height": 143
    },
    "id": "WDyPpF8gN9o2",
    "outputId": "a86b1fbc-ced8-4ad8-f106-3f9b9102e63b"
   },
   "outputs": [
    {
     "data": {
      "text/html": [
       "<div>\n",
       "<style scoped>\n",
       "    .dataframe tbody tr th:only-of-type {\n",
       "        vertical-align: middle;\n",
       "    }\n",
       "\n",
       "    .dataframe tbody tr th {\n",
       "        vertical-align: top;\n",
       "    }\n",
       "\n",
       "    .dataframe thead th {\n",
       "        text-align: right;\n",
       "    }\n",
       "</style>\n",
       "<table border=\"1\" class=\"dataframe\">\n",
       "  <thead>\n",
       "    <tr style=\"text-align: right;\">\n",
       "      <th></th>\n",
       "      <th>First</th>\n",
       "      <th>Second</th>\n",
       "      <th>Third</th>\n",
       "    </tr>\n",
       "  </thead>\n",
       "  <tbody>\n",
       "    <tr>\n",
       "      <th>Values of x</th>\n",
       "      <td>1</td>\n",
       "      <td>2</td>\n",
       "      <td>3</td>\n",
       "    </tr>\n",
       "    <tr>\n",
       "      <th>Values of y</th>\n",
       "      <td>4</td>\n",
       "      <td>5</td>\n",
       "      <td>6</td>\n",
       "    </tr>\n",
       "    <tr>\n",
       "      <th>Values of z</th>\n",
       "      <td>7</td>\n",
       "      <td>8</td>\n",
       "      <td>9</td>\n",
       "    </tr>\n",
       "  </tbody>\n",
       "</table>\n",
       "</div>"
      ],
      "text/plain": [
       "             First  Second  Third\n",
       "Values of x      1       2      3\n",
       "Values of y      4       5      6\n",
       "Values of z      7       8      9"
      ]
     },
     "execution_count": 16,
     "metadata": {},
     "output_type": "execute_result"
    }
   ],
   "source": [
    "#Use the short-hand assign it to df_transpose\n",
    "df_transpose=df_dict.T\n",
    "df_transpose"
   ]
  },
  {
   "cell_type": "markdown",
   "metadata": {
    "id": "dp2Ko6v818oM"
   },
   "source": [
    "## ***DataFrames, CSV, And Excel Files***"
   ]
  },
  {
   "cell_type": "markdown",
   "metadata": {
    "id": "BnBmpZTE2K4Q"
   },
   "source": [
    "### ***Creating A DataFrame With A CSV File***\n",
    "#### Colab notebooks contain sample data within the 'sample_data' folder. In this instance,<br> the data from the csv file 'california_housing_train.csv' is transformed into a DataFrame<br> using the Pandas <font color='green'>read_csv()</font> method. The sole necessary argument for this method is<br> the file path from DropBox.\n",
    "\n",
    "#### The file is then assigned to <font color='green'>df_csv</font>, and the initial ten rows are displayed by slicing the <font color='green'>index</font><br> using the <font color='green'>iloc</font> attribute..\n",
    "\n",
    "#### The file is then assigned to <font color='green'>df_csv</font>, and the initial ten rows are displayed by slicing the <font color='green'>index</font><br> using the <font color='green'>iloc</font> attribute."
   ]
  },
  {
   "cell_type": "code",
   "execution_count": 17,
   "metadata": {
    "colab": {
     "base_uri": "https://localhost:8080/",
     "height": 363
    },
    "id": "kUfbeTBfxbwD",
    "outputId": "04e007c4-36dc-464d-ddce-e70d42d88109"
   },
   "outputs": [
    {
     "data": {
      "text/html": [
       "<div>\n",
       "<style scoped>\n",
       "    .dataframe tbody tr th:only-of-type {\n",
       "        vertical-align: middle;\n",
       "    }\n",
       "\n",
       "    .dataframe tbody tr th {\n",
       "        vertical-align: top;\n",
       "    }\n",
       "\n",
       "    .dataframe thead th {\n",
       "        text-align: right;\n",
       "    }\n",
       "</style>\n",
       "<table border=\"1\" class=\"dataframe\">\n",
       "  <thead>\n",
       "    <tr style=\"text-align: right;\">\n",
       "      <th></th>\n",
       "      <th>longitude</th>\n",
       "      <th>latitude</th>\n",
       "      <th>housing_median_age</th>\n",
       "      <th>total_rooms</th>\n",
       "      <th>total_bedrooms</th>\n",
       "      <th>population</th>\n",
       "      <th>households</th>\n",
       "      <th>median_income</th>\n",
       "      <th>median_house_value</th>\n",
       "    </tr>\n",
       "  </thead>\n",
       "  <tbody>\n",
       "    <tr>\n",
       "      <th>0</th>\n",
       "      <td>-114.31</td>\n",
       "      <td>34.19</td>\n",
       "      <td>15.0</td>\n",
       "      <td>5612.0</td>\n",
       "      <td>1283.0</td>\n",
       "      <td>1015.0</td>\n",
       "      <td>472.0</td>\n",
       "      <td>1.4936</td>\n",
       "      <td>66900.0</td>\n",
       "    </tr>\n",
       "    <tr>\n",
       "      <th>1</th>\n",
       "      <td>-114.47</td>\n",
       "      <td>34.40</td>\n",
       "      <td>19.0</td>\n",
       "      <td>7650.0</td>\n",
       "      <td>1901.0</td>\n",
       "      <td>1129.0</td>\n",
       "      <td>463.0</td>\n",
       "      <td>1.8200</td>\n",
       "      <td>80100.0</td>\n",
       "    </tr>\n",
       "    <tr>\n",
       "      <th>2</th>\n",
       "      <td>-114.56</td>\n",
       "      <td>33.69</td>\n",
       "      <td>17.0</td>\n",
       "      <td>720.0</td>\n",
       "      <td>174.0</td>\n",
       "      <td>333.0</td>\n",
       "      <td>117.0</td>\n",
       "      <td>1.6509</td>\n",
       "      <td>85700.0</td>\n",
       "    </tr>\n",
       "    <tr>\n",
       "      <th>3</th>\n",
       "      <td>-114.57</td>\n",
       "      <td>33.64</td>\n",
       "      <td>14.0</td>\n",
       "      <td>1501.0</td>\n",
       "      <td>337.0</td>\n",
       "      <td>515.0</td>\n",
       "      <td>226.0</td>\n",
       "      <td>3.1917</td>\n",
       "      <td>73400.0</td>\n",
       "    </tr>\n",
       "    <tr>\n",
       "      <th>4</th>\n",
       "      <td>-114.57</td>\n",
       "      <td>33.57</td>\n",
       "      <td>20.0</td>\n",
       "      <td>1454.0</td>\n",
       "      <td>326.0</td>\n",
       "      <td>624.0</td>\n",
       "      <td>262.0</td>\n",
       "      <td>1.9250</td>\n",
       "      <td>65500.0</td>\n",
       "    </tr>\n",
       "    <tr>\n",
       "      <th>5</th>\n",
       "      <td>-114.58</td>\n",
       "      <td>33.63</td>\n",
       "      <td>29.0</td>\n",
       "      <td>1387.0</td>\n",
       "      <td>236.0</td>\n",
       "      <td>671.0</td>\n",
       "      <td>239.0</td>\n",
       "      <td>3.3438</td>\n",
       "      <td>74000.0</td>\n",
       "    </tr>\n",
       "    <tr>\n",
       "      <th>6</th>\n",
       "      <td>-114.58</td>\n",
       "      <td>33.61</td>\n",
       "      <td>25.0</td>\n",
       "      <td>2907.0</td>\n",
       "      <td>680.0</td>\n",
       "      <td>1841.0</td>\n",
       "      <td>633.0</td>\n",
       "      <td>2.6768</td>\n",
       "      <td>82400.0</td>\n",
       "    </tr>\n",
       "    <tr>\n",
       "      <th>7</th>\n",
       "      <td>-114.59</td>\n",
       "      <td>34.83</td>\n",
       "      <td>41.0</td>\n",
       "      <td>812.0</td>\n",
       "      <td>168.0</td>\n",
       "      <td>375.0</td>\n",
       "      <td>158.0</td>\n",
       "      <td>1.7083</td>\n",
       "      <td>48500.0</td>\n",
       "    </tr>\n",
       "    <tr>\n",
       "      <th>8</th>\n",
       "      <td>-114.59</td>\n",
       "      <td>33.61</td>\n",
       "      <td>34.0</td>\n",
       "      <td>4789.0</td>\n",
       "      <td>1175.0</td>\n",
       "      <td>3134.0</td>\n",
       "      <td>1056.0</td>\n",
       "      <td>2.1782</td>\n",
       "      <td>58400.0</td>\n",
       "    </tr>\n",
       "    <tr>\n",
       "      <th>9</th>\n",
       "      <td>-114.60</td>\n",
       "      <td>34.83</td>\n",
       "      <td>46.0</td>\n",
       "      <td>1497.0</td>\n",
       "      <td>309.0</td>\n",
       "      <td>787.0</td>\n",
       "      <td>271.0</td>\n",
       "      <td>2.1908</td>\n",
       "      <td>48100.0</td>\n",
       "    </tr>\n",
       "  </tbody>\n",
       "</table>\n",
       "</div>"
      ],
      "text/plain": [
       "   longitude  latitude  housing_median_age  total_rooms  total_bedrooms  \\\n",
       "0    -114.31     34.19                15.0       5612.0          1283.0   \n",
       "1    -114.47     34.40                19.0       7650.0          1901.0   \n",
       "2    -114.56     33.69                17.0        720.0           174.0   \n",
       "3    -114.57     33.64                14.0       1501.0           337.0   \n",
       "4    -114.57     33.57                20.0       1454.0           326.0   \n",
       "5    -114.58     33.63                29.0       1387.0           236.0   \n",
       "6    -114.58     33.61                25.0       2907.0           680.0   \n",
       "7    -114.59     34.83                41.0        812.0           168.0   \n",
       "8    -114.59     33.61                34.0       4789.0          1175.0   \n",
       "9    -114.60     34.83                46.0       1497.0           309.0   \n",
       "\n",
       "   population  households  median_income  median_house_value  \n",
       "0      1015.0       472.0         1.4936             66900.0  \n",
       "1      1129.0       463.0         1.8200             80100.0  \n",
       "2       333.0       117.0         1.6509             85700.0  \n",
       "3       515.0       226.0         3.1917             73400.0  \n",
       "4       624.0       262.0         1.9250             65500.0  \n",
       "5       671.0       239.0         3.3438             74000.0  \n",
       "6      1841.0       633.0         2.6768             82400.0  \n",
       "7       375.0       158.0         1.7083             48500.0  \n",
       "8      3134.0      1056.0         2.1782             58400.0  \n",
       "9       787.0       271.0         2.1908             48100.0  "
      ]
     },
     "execution_count": 17,
     "metadata": {},
     "output_type": "execute_result"
    }
   ],
   "source": [
    "url='https://www.dropbox.com/scl/fi/8vr4pq42p99zxu5lc9qe6/\\\n",
    "california_housing_train.csv?rlkey=8foebx6137zspvq5d5rqd9f2f&st=01oy0yej&dl=1'\n",
    "df_csv=pd.read_csv(url)\n",
    "df_csv.iloc[:10]"
   ]
  },
  {
   "cell_type": "markdown",
   "metadata": {
    "id": "XsCkoNVk6HSN"
   },
   "source": [
    "### ***Creating An Excel File From A DataFrame And Back To A DataFrame***\n",
    "#### The <font color='green'>to_excel()</font> method converts a DataFrame into an Excel file. This example uses the<br> required argument file path, and specifies the file name as <font color='green'>sample.xlsx</font>. The file will be<br> located in the notebook's root directory '/contents.' Additionally, the optional arguments<br> <font color='green'>sheet_name</font> and <font color='green'>index</font> are used. The <font color='green'>sheet_name</font> is assigned 'First Sheet,' and the <font color='green'>index</font><br> is set to False, preventing the <font color='green'>df_csv</font> index from being included in 'First Sheet.' The resulting<br> Excel file is then converted back into a DataFrame (<font color='green'>df_excel</font>), and the first ten rows are<br> displayed by slicing without using <font color='green'>iloc</font>.  The results are identical to <font color='green'>df_csv</font>."
   ]
  },
  {
   "cell_type": "code",
   "execution_count": 18,
   "metadata": {
    "id": "_p4pM2VRzegI"
   },
   "outputs": [],
   "source": [
    "df_csv.to_excel('sample.xlsx',sheet_name='First Sheet',index=False)"
   ]
  },
  {
   "cell_type": "code",
   "execution_count": 19,
   "metadata": {
    "colab": {
     "base_uri": "https://localhost:8080/",
     "height": 363
    },
    "id": "McMt8Xn00O4e",
    "outputId": "bc587050-6a00-4340-a953-7223b3dab495"
   },
   "outputs": [
    {
     "ename": "FileNotFoundError",
     "evalue": "[Errno 2] No such file or directory: '/content/sample.xlsx'",
     "output_type": "error",
     "traceback": [
      "\u001b[0;31m---------------------------------------------------------------------------\u001b[0m",
      "\u001b[0;31mFileNotFoundError\u001b[0m                         Traceback (most recent call last)",
      "\u001b[0;32m/tmp/ipykernel_17325/3575374214.py\u001b[0m in \u001b[0;36m<module>\u001b[0;34m\u001b[0m\n\u001b[1;32m      1\u001b[0m \u001b[0murl\u001b[0m\u001b[0;34m=\u001b[0m\u001b[0;34m'/content/sample.xlsx'\u001b[0m\u001b[0;34m\u001b[0m\u001b[0;34m\u001b[0m\u001b[0m\n\u001b[0;32m----> 2\u001b[0;31m \u001b[0mdf_excel\u001b[0m\u001b[0;34m=\u001b[0m\u001b[0mpd\u001b[0m\u001b[0;34m.\u001b[0m\u001b[0mread_excel\u001b[0m\u001b[0;34m(\u001b[0m\u001b[0murl\u001b[0m\u001b[0;34m,\u001b[0m\u001b[0msheet_name\u001b[0m\u001b[0;34m=\u001b[0m\u001b[0;34m'First Sheet'\u001b[0m\u001b[0;34m)\u001b[0m\u001b[0;34m\u001b[0m\u001b[0;34m\u001b[0m\u001b[0m\n\u001b[0m\u001b[1;32m      3\u001b[0m \u001b[0mdf_excel\u001b[0m\u001b[0;34m[\u001b[0m\u001b[0;34m:\u001b[0m\u001b[0;36m10\u001b[0m\u001b[0;34m]\u001b[0m\u001b[0;34m\u001b[0m\u001b[0;34m\u001b[0m\u001b[0m\n",
      "\u001b[0;32m~/anaconda3/lib/python3.9/site-packages/pandas/util/_decorators.py\u001b[0m in \u001b[0;36mwrapper\u001b[0;34m(*args, **kwargs)\u001b[0m\n\u001b[1;32m    309\u001b[0m                     \u001b[0mstacklevel\u001b[0m\u001b[0;34m=\u001b[0m\u001b[0mstacklevel\u001b[0m\u001b[0;34m,\u001b[0m\u001b[0;34m\u001b[0m\u001b[0;34m\u001b[0m\u001b[0m\n\u001b[1;32m    310\u001b[0m                 )\n\u001b[0;32m--> 311\u001b[0;31m             \u001b[0;32mreturn\u001b[0m \u001b[0mfunc\u001b[0m\u001b[0;34m(\u001b[0m\u001b[0;34m*\u001b[0m\u001b[0margs\u001b[0m\u001b[0;34m,\u001b[0m \u001b[0;34m**\u001b[0m\u001b[0mkwargs\u001b[0m\u001b[0;34m)\u001b[0m\u001b[0;34m\u001b[0m\u001b[0;34m\u001b[0m\u001b[0m\n\u001b[0m\u001b[1;32m    312\u001b[0m \u001b[0;34m\u001b[0m\u001b[0m\n\u001b[1;32m    313\u001b[0m         \u001b[0;32mreturn\u001b[0m \u001b[0mwrapper\u001b[0m\u001b[0;34m\u001b[0m\u001b[0;34m\u001b[0m\u001b[0m\n",
      "\u001b[0;32m~/anaconda3/lib/python3.9/site-packages/pandas/io/excel/_base.py\u001b[0m in \u001b[0;36mread_excel\u001b[0;34m(io, sheet_name, header, names, index_col, usecols, squeeze, dtype, engine, converters, true_values, false_values, skiprows, nrows, na_values, keep_default_na, na_filter, verbose, parse_dates, date_parser, thousands, comment, skipfooter, convert_float, mangle_dupe_cols, storage_options)\u001b[0m\n\u001b[1;32m    362\u001b[0m     \u001b[0;32mif\u001b[0m \u001b[0;32mnot\u001b[0m \u001b[0misinstance\u001b[0m\u001b[0;34m(\u001b[0m\u001b[0mio\u001b[0m\u001b[0;34m,\u001b[0m \u001b[0mExcelFile\u001b[0m\u001b[0;34m)\u001b[0m\u001b[0;34m:\u001b[0m\u001b[0;34m\u001b[0m\u001b[0;34m\u001b[0m\u001b[0m\n\u001b[1;32m    363\u001b[0m         \u001b[0mshould_close\u001b[0m \u001b[0;34m=\u001b[0m \u001b[0;32mTrue\u001b[0m\u001b[0;34m\u001b[0m\u001b[0;34m\u001b[0m\u001b[0m\n\u001b[0;32m--> 364\u001b[0;31m         \u001b[0mio\u001b[0m \u001b[0;34m=\u001b[0m \u001b[0mExcelFile\u001b[0m\u001b[0;34m(\u001b[0m\u001b[0mio\u001b[0m\u001b[0;34m,\u001b[0m \u001b[0mstorage_options\u001b[0m\u001b[0;34m=\u001b[0m\u001b[0mstorage_options\u001b[0m\u001b[0;34m,\u001b[0m \u001b[0mengine\u001b[0m\u001b[0;34m=\u001b[0m\u001b[0mengine\u001b[0m\u001b[0;34m)\u001b[0m\u001b[0;34m\u001b[0m\u001b[0;34m\u001b[0m\u001b[0m\n\u001b[0m\u001b[1;32m    365\u001b[0m     \u001b[0;32melif\u001b[0m \u001b[0mengine\u001b[0m \u001b[0;32mand\u001b[0m \u001b[0mengine\u001b[0m \u001b[0;34m!=\u001b[0m \u001b[0mio\u001b[0m\u001b[0;34m.\u001b[0m\u001b[0mengine\u001b[0m\u001b[0;34m:\u001b[0m\u001b[0;34m\u001b[0m\u001b[0;34m\u001b[0m\u001b[0m\n\u001b[1;32m    366\u001b[0m         raise ValueError(\n",
      "\u001b[0;32m~/anaconda3/lib/python3.9/site-packages/pandas/io/excel/_base.py\u001b[0m in \u001b[0;36m__init__\u001b[0;34m(self, path_or_buffer, engine, storage_options)\u001b[0m\n\u001b[1;32m   1189\u001b[0m                 \u001b[0mext\u001b[0m \u001b[0;34m=\u001b[0m \u001b[0;34m\"xls\"\u001b[0m\u001b[0;34m\u001b[0m\u001b[0;34m\u001b[0m\u001b[0m\n\u001b[1;32m   1190\u001b[0m             \u001b[0;32melse\u001b[0m\u001b[0;34m:\u001b[0m\u001b[0;34m\u001b[0m\u001b[0;34m\u001b[0m\u001b[0m\n\u001b[0;32m-> 1191\u001b[0;31m                 ext = inspect_excel_format(\n\u001b[0m\u001b[1;32m   1192\u001b[0m                     \u001b[0mcontent_or_path\u001b[0m\u001b[0;34m=\u001b[0m\u001b[0mpath_or_buffer\u001b[0m\u001b[0;34m,\u001b[0m \u001b[0mstorage_options\u001b[0m\u001b[0;34m=\u001b[0m\u001b[0mstorage_options\u001b[0m\u001b[0;34m\u001b[0m\u001b[0;34m\u001b[0m\u001b[0m\n\u001b[1;32m   1193\u001b[0m                 )\n",
      "\u001b[0;32m~/anaconda3/lib/python3.9/site-packages/pandas/io/excel/_base.py\u001b[0m in \u001b[0;36minspect_excel_format\u001b[0;34m(content_or_path, storage_options)\u001b[0m\n\u001b[1;32m   1068\u001b[0m         \u001b[0mcontent_or_path\u001b[0m \u001b[0;34m=\u001b[0m \u001b[0mBytesIO\u001b[0m\u001b[0;34m(\u001b[0m\u001b[0mcontent_or_path\u001b[0m\u001b[0;34m)\u001b[0m\u001b[0;34m\u001b[0m\u001b[0;34m\u001b[0m\u001b[0m\n\u001b[1;32m   1069\u001b[0m \u001b[0;34m\u001b[0m\u001b[0m\n\u001b[0;32m-> 1070\u001b[0;31m     with get_handle(\n\u001b[0m\u001b[1;32m   1071\u001b[0m         \u001b[0mcontent_or_path\u001b[0m\u001b[0;34m,\u001b[0m \u001b[0;34m\"rb\"\u001b[0m\u001b[0;34m,\u001b[0m \u001b[0mstorage_options\u001b[0m\u001b[0;34m=\u001b[0m\u001b[0mstorage_options\u001b[0m\u001b[0;34m,\u001b[0m \u001b[0mis_text\u001b[0m\u001b[0;34m=\u001b[0m\u001b[0;32mFalse\u001b[0m\u001b[0;34m\u001b[0m\u001b[0;34m\u001b[0m\u001b[0m\n\u001b[1;32m   1072\u001b[0m     ) as handle:\n",
      "\u001b[0;32m~/anaconda3/lib/python3.9/site-packages/pandas/io/common.py\u001b[0m in \u001b[0;36mget_handle\u001b[0;34m(path_or_buf, mode, encoding, compression, memory_map, is_text, errors, storage_options)\u001b[0m\n\u001b[1;32m    709\u001b[0m         \u001b[0;32melse\u001b[0m\u001b[0;34m:\u001b[0m\u001b[0;34m\u001b[0m\u001b[0;34m\u001b[0m\u001b[0m\n\u001b[1;32m    710\u001b[0m             \u001b[0;31m# Binary mode\u001b[0m\u001b[0;34m\u001b[0m\u001b[0;34m\u001b[0m\u001b[0m\n\u001b[0;32m--> 711\u001b[0;31m             \u001b[0mhandle\u001b[0m \u001b[0;34m=\u001b[0m \u001b[0mopen\u001b[0m\u001b[0;34m(\u001b[0m\u001b[0mhandle\u001b[0m\u001b[0;34m,\u001b[0m \u001b[0mioargs\u001b[0m\u001b[0;34m.\u001b[0m\u001b[0mmode\u001b[0m\u001b[0;34m)\u001b[0m\u001b[0;34m\u001b[0m\u001b[0;34m\u001b[0m\u001b[0m\n\u001b[0m\u001b[1;32m    712\u001b[0m         \u001b[0mhandles\u001b[0m\u001b[0;34m.\u001b[0m\u001b[0mappend\u001b[0m\u001b[0;34m(\u001b[0m\u001b[0mhandle\u001b[0m\u001b[0;34m)\u001b[0m\u001b[0;34m\u001b[0m\u001b[0;34m\u001b[0m\u001b[0m\n\u001b[1;32m    713\u001b[0m \u001b[0;34m\u001b[0m\u001b[0m\n",
      "\u001b[0;31mFileNotFoundError\u001b[0m: [Errno 2] No such file or directory: '/content/sample.xlsx'"
     ]
    }
   ],
   "source": [
    "url='/content/sample.xlsx'\n",
    "df_excel=pd.read_excel(url,sheet_name='First Sheet')\n",
    "df_excel[:10]"
   ]
  },
  {
   "cell_type": "markdown",
   "metadata": {
    "id": "kbgeZI40oAbQ"
   },
   "source": [
    "### ***Making A Column The Index***\n",
    "#### The <font color='green'>set_index()</font> method makes a column an index. One of the arguments of the method<br> is <font color='green'>inplace</font> that defaults to False.  If assigned True, the DataFrame is permanently changed.<br>  Here it is assigned to a new DataFrame."
   ]
  },
  {
   "cell_type": "code",
   "execution_count": null,
   "metadata": {
    "colab": {
     "base_uri": "https://localhost:8080/",
     "height": 455
    },
    "id": "A-LktMH3nEUP",
    "outputId": "b4c02a20-95c6-41f7-e847-bb60bd1728ab"
   },
   "outputs": [
    {
     "data": {
      "application/vnd.google.colaboratory.intrinsic+json": {
       "summary": "{\n  \"name\": \"df_excel_new_index\",\n  \"rows\": 17000,\n  \"fields\": [\n    {\n      \"column\": \"longitude\",\n      \"properties\": {\n        \"dtype\": \"number\",\n        \"std\": 2.005166408426173,\n        \"min\": -124.35,\n        \"max\": -114.31,\n        \"num_unique_values\": 827,\n        \"samples\": [\n          -117.56,\n          -123.32,\n          -118.26\n        ],\n        \"semantic_type\": \"\",\n        \"description\": \"\"\n      }\n    },\n    {\n      \"column\": \"latitude\",\n      \"properties\": {\n        \"dtype\": \"number\",\n        \"std\": 2.1373397946570734,\n        \"min\": 32.54,\n        \"max\": 41.95,\n        \"num_unique_values\": 840,\n        \"samples\": [\n          38.44,\n          40.79,\n          32.69\n        ],\n        \"semantic_type\": \"\",\n        \"description\": \"\"\n      }\n    },\n    {\n      \"column\": \"housing_median_age\",\n      \"properties\": {\n        \"dtype\": \"number\",\n        \"std\": 12,\n        \"min\": 1,\n        \"max\": 52,\n        \"num_unique_values\": 52,\n        \"samples\": [\n          23,\n          52,\n          47\n        ],\n        \"semantic_type\": \"\",\n        \"description\": \"\"\n      }\n    },\n    {\n      \"column\": \"total_rooms\",\n      \"properties\": {\n        \"dtype\": \"number\",\n        \"std\": 2179,\n        \"min\": 2,\n        \"max\": 37937,\n        \"num_unique_values\": 5533,\n        \"samples\": [\n          3564,\n          6955,\n          5451\n        ],\n        \"semantic_type\": \"\",\n        \"description\": \"\"\n      }\n    },\n    {\n      \"column\": \"total_bedrooms\",\n      \"properties\": {\n        \"dtype\": \"number\",\n        \"std\": 421,\n        \"min\": 1,\n        \"max\": 6445,\n        \"num_unique_values\": 1848,\n        \"samples\": [\n          729,\n          719,\n          2075\n        ],\n        \"semantic_type\": \"\",\n        \"description\": \"\"\n      }\n    },\n    {\n      \"column\": \"population\",\n      \"properties\": {\n        \"dtype\": \"number\",\n        \"std\": 1147,\n        \"min\": 3,\n        \"max\": 35682,\n        \"num_unique_values\": 3683,\n        \"samples\": [\n          249,\n          1735,\n          235\n        ],\n        \"semantic_type\": \"\",\n        \"description\": \"\"\n      }\n    },\n    {\n      \"column\": \"households\",\n      \"properties\": {\n        \"dtype\": \"number\",\n        \"std\": 384,\n        \"min\": 1,\n        \"max\": 6082,\n        \"num_unique_values\": 1740,\n        \"samples\": [\n          390,\n          1089,\n          1351\n        ],\n        \"semantic_type\": \"\",\n        \"description\": \"\"\n      }\n    },\n    {\n      \"column\": \"median_income\",\n      \"properties\": {\n        \"dtype\": \"number\",\n        \"std\": 1.908156518379093,\n        \"min\": 0.4999,\n        \"max\": 15.0001,\n        \"num_unique_values\": 11175,\n        \"samples\": [\n          7.2655,\n          5.6293,\n          4.2262\n        ],\n        \"semantic_type\": \"\",\n        \"description\": \"\"\n      }\n    },\n    {\n      \"column\": \"median_house_value\",\n      \"properties\": {\n        \"dtype\": \"number\",\n        \"std\": 115983,\n        \"min\": 14999,\n        \"max\": 500001,\n        \"num_unique_values\": 3694,\n        \"samples\": [\n          162300,\n          346800,\n          116700\n        ],\n        \"semantic_type\": \"\",\n        \"description\": \"\"\n      }\n    }\n  ]\n}",
       "type": "dataframe",
       "variable_name": "df_excel_new_index"
      },
      "text/html": [
       "\n",
       "  <div id=\"df-bfc5867a-ee70-42c4-89b1-b132cd20b8c4\" class=\"colab-df-container\">\n",
       "    <div>\n",
       "<style scoped>\n",
       "    .dataframe tbody tr th:only-of-type {\n",
       "        vertical-align: middle;\n",
       "    }\n",
       "\n",
       "    .dataframe tbody tr th {\n",
       "        vertical-align: top;\n",
       "    }\n",
       "\n",
       "    .dataframe thead th {\n",
       "        text-align: right;\n",
       "    }\n",
       "</style>\n",
       "<table border=\"1\" class=\"dataframe\">\n",
       "  <thead>\n",
       "    <tr style=\"text-align: right;\">\n",
       "      <th></th>\n",
       "      <th>latitude</th>\n",
       "      <th>housing_median_age</th>\n",
       "      <th>total_rooms</th>\n",
       "      <th>total_bedrooms</th>\n",
       "      <th>population</th>\n",
       "      <th>households</th>\n",
       "      <th>median_income</th>\n",
       "      <th>median_house_value</th>\n",
       "    </tr>\n",
       "    <tr>\n",
       "      <th>longitude</th>\n",
       "      <th></th>\n",
       "      <th></th>\n",
       "      <th></th>\n",
       "      <th></th>\n",
       "      <th></th>\n",
       "      <th></th>\n",
       "      <th></th>\n",
       "      <th></th>\n",
       "    </tr>\n",
       "  </thead>\n",
       "  <tbody>\n",
       "    <tr>\n",
       "      <th>-114.31</th>\n",
       "      <td>34.19</td>\n",
       "      <td>15</td>\n",
       "      <td>5612</td>\n",
       "      <td>1283</td>\n",
       "      <td>1015</td>\n",
       "      <td>472</td>\n",
       "      <td>1.4936</td>\n",
       "      <td>66900</td>\n",
       "    </tr>\n",
       "    <tr>\n",
       "      <th>-114.47</th>\n",
       "      <td>34.40</td>\n",
       "      <td>19</td>\n",
       "      <td>7650</td>\n",
       "      <td>1901</td>\n",
       "      <td>1129</td>\n",
       "      <td>463</td>\n",
       "      <td>1.8200</td>\n",
       "      <td>80100</td>\n",
       "    </tr>\n",
       "    <tr>\n",
       "      <th>-114.56</th>\n",
       "      <td>33.69</td>\n",
       "      <td>17</td>\n",
       "      <td>720</td>\n",
       "      <td>174</td>\n",
       "      <td>333</td>\n",
       "      <td>117</td>\n",
       "      <td>1.6509</td>\n",
       "      <td>85700</td>\n",
       "    </tr>\n",
       "    <tr>\n",
       "      <th>-114.57</th>\n",
       "      <td>33.64</td>\n",
       "      <td>14</td>\n",
       "      <td>1501</td>\n",
       "      <td>337</td>\n",
       "      <td>515</td>\n",
       "      <td>226</td>\n",
       "      <td>3.1917</td>\n",
       "      <td>73400</td>\n",
       "    </tr>\n",
       "    <tr>\n",
       "      <th>-114.57</th>\n",
       "      <td>33.57</td>\n",
       "      <td>20</td>\n",
       "      <td>1454</td>\n",
       "      <td>326</td>\n",
       "      <td>624</td>\n",
       "      <td>262</td>\n",
       "      <td>1.9250</td>\n",
       "      <td>65500</td>\n",
       "    </tr>\n",
       "    <tr>\n",
       "      <th>...</th>\n",
       "      <td>...</td>\n",
       "      <td>...</td>\n",
       "      <td>...</td>\n",
       "      <td>...</td>\n",
       "      <td>...</td>\n",
       "      <td>...</td>\n",
       "      <td>...</td>\n",
       "      <td>...</td>\n",
       "    </tr>\n",
       "    <tr>\n",
       "      <th>-124.26</th>\n",
       "      <td>40.58</td>\n",
       "      <td>52</td>\n",
       "      <td>2217</td>\n",
       "      <td>394</td>\n",
       "      <td>907</td>\n",
       "      <td>369</td>\n",
       "      <td>2.3571</td>\n",
       "      <td>111400</td>\n",
       "    </tr>\n",
       "    <tr>\n",
       "      <th>-124.27</th>\n",
       "      <td>40.69</td>\n",
       "      <td>36</td>\n",
       "      <td>2349</td>\n",
       "      <td>528</td>\n",
       "      <td>1194</td>\n",
       "      <td>465</td>\n",
       "      <td>2.5179</td>\n",
       "      <td>79000</td>\n",
       "    </tr>\n",
       "    <tr>\n",
       "      <th>-124.30</th>\n",
       "      <td>41.84</td>\n",
       "      <td>17</td>\n",
       "      <td>2677</td>\n",
       "      <td>531</td>\n",
       "      <td>1244</td>\n",
       "      <td>456</td>\n",
       "      <td>3.0313</td>\n",
       "      <td>103600</td>\n",
       "    </tr>\n",
       "    <tr>\n",
       "      <th>-124.30</th>\n",
       "      <td>41.80</td>\n",
       "      <td>19</td>\n",
       "      <td>2672</td>\n",
       "      <td>552</td>\n",
       "      <td>1298</td>\n",
       "      <td>478</td>\n",
       "      <td>1.9797</td>\n",
       "      <td>85800</td>\n",
       "    </tr>\n",
       "    <tr>\n",
       "      <th>-124.35</th>\n",
       "      <td>40.54</td>\n",
       "      <td>52</td>\n",
       "      <td>1820</td>\n",
       "      <td>300</td>\n",
       "      <td>806</td>\n",
       "      <td>270</td>\n",
       "      <td>3.0147</td>\n",
       "      <td>94600</td>\n",
       "    </tr>\n",
       "  </tbody>\n",
       "</table>\n",
       "<p>17000 rows × 8 columns</p>\n",
       "</div>\n",
       "    <div class=\"colab-df-buttons\">\n",
       "\n",
       "  <div class=\"colab-df-container\">\n",
       "    <button class=\"colab-df-convert\" onclick=\"convertToInteractive('df-bfc5867a-ee70-42c4-89b1-b132cd20b8c4')\"\n",
       "            title=\"Convert this dataframe to an interactive table.\"\n",
       "            style=\"display:none;\">\n",
       "\n",
       "  <svg xmlns=\"http://www.w3.org/2000/svg\" height=\"24px\" viewBox=\"0 -960 960 960\">\n",
       "    <path d=\"M120-120v-720h720v720H120Zm60-500h600v-160H180v160Zm220 220h160v-160H400v160Zm0 220h160v-160H400v160ZM180-400h160v-160H180v160Zm440 0h160v-160H620v160ZM180-180h160v-160H180v160Zm440 0h160v-160H620v160Z\"/>\n",
       "  </svg>\n",
       "    </button>\n",
       "\n",
       "  <style>\n",
       "    .colab-df-container {\n",
       "      display:flex;\n",
       "      gap: 12px;\n",
       "    }\n",
       "\n",
       "    .colab-df-convert {\n",
       "      background-color: #E8F0FE;\n",
       "      border: none;\n",
       "      border-radius: 50%;\n",
       "      cursor: pointer;\n",
       "      display: none;\n",
       "      fill: #1967D2;\n",
       "      height: 32px;\n",
       "      padding: 0 0 0 0;\n",
       "      width: 32px;\n",
       "    }\n",
       "\n",
       "    .colab-df-convert:hover {\n",
       "      background-color: #E2EBFA;\n",
       "      box-shadow: 0px 1px 2px rgba(60, 64, 67, 0.3), 0px 1px 3px 1px rgba(60, 64, 67, 0.15);\n",
       "      fill: #174EA6;\n",
       "    }\n",
       "\n",
       "    .colab-df-buttons div {\n",
       "      margin-bottom: 4px;\n",
       "    }\n",
       "\n",
       "    [theme=dark] .colab-df-convert {\n",
       "      background-color: #3B4455;\n",
       "      fill: #D2E3FC;\n",
       "    }\n",
       "\n",
       "    [theme=dark] .colab-df-convert:hover {\n",
       "      background-color: #434B5C;\n",
       "      box-shadow: 0px 1px 3px 1px rgba(0, 0, 0, 0.15);\n",
       "      filter: drop-shadow(0px 1px 2px rgba(0, 0, 0, 0.3));\n",
       "      fill: #FFFFFF;\n",
       "    }\n",
       "  </style>\n",
       "\n",
       "    <script>\n",
       "      const buttonEl =\n",
       "        document.querySelector('#df-bfc5867a-ee70-42c4-89b1-b132cd20b8c4 button.colab-df-convert');\n",
       "      buttonEl.style.display =\n",
       "        google.colab.kernel.accessAllowed ? 'block' : 'none';\n",
       "\n",
       "      async function convertToInteractive(key) {\n",
       "        const element = document.querySelector('#df-bfc5867a-ee70-42c4-89b1-b132cd20b8c4');\n",
       "        const dataTable =\n",
       "          await google.colab.kernel.invokeFunction('convertToInteractive',\n",
       "                                                    [key], {});\n",
       "        if (!dataTable) return;\n",
       "\n",
       "        const docLinkHtml = 'Like what you see? Visit the ' +\n",
       "          '<a target=\"_blank\" href=https://colab.research.google.com/notebooks/data_table.ipynb>data table notebook</a>'\n",
       "          + ' to learn more about interactive tables.';\n",
       "        element.innerHTML = '';\n",
       "        dataTable['output_type'] = 'display_data';\n",
       "        await google.colab.output.renderOutput(dataTable, element);\n",
       "        const docLink = document.createElement('div');\n",
       "        docLink.innerHTML = docLinkHtml;\n",
       "        element.appendChild(docLink);\n",
       "      }\n",
       "    </script>\n",
       "  </div>\n",
       "\n",
       "\n",
       "    <div id=\"df-eb09276a-c449-4f13-b94c-bdf7cddb3ed2\">\n",
       "      <button class=\"colab-df-quickchart\" onclick=\"quickchart('df-eb09276a-c449-4f13-b94c-bdf7cddb3ed2')\"\n",
       "                title=\"Suggest charts\"\n",
       "                style=\"display:none;\">\n",
       "\n",
       "<svg xmlns=\"http://www.w3.org/2000/svg\" height=\"24px\"viewBox=\"0 0 24 24\"\n",
       "     width=\"24px\">\n",
       "    <g>\n",
       "        <path d=\"M19 3H5c-1.1 0-2 .9-2 2v14c0 1.1.9 2 2 2h14c1.1 0 2-.9 2-2V5c0-1.1-.9-2-2-2zM9 17H7v-7h2v7zm4 0h-2V7h2v10zm4 0h-2v-4h2v4z\"/>\n",
       "    </g>\n",
       "</svg>\n",
       "      </button>\n",
       "\n",
       "<style>\n",
       "  .colab-df-quickchart {\n",
       "      --bg-color: #E8F0FE;\n",
       "      --fill-color: #1967D2;\n",
       "      --hover-bg-color: #E2EBFA;\n",
       "      --hover-fill-color: #174EA6;\n",
       "      --disabled-fill-color: #AAA;\n",
       "      --disabled-bg-color: #DDD;\n",
       "  }\n",
       "\n",
       "  [theme=dark] .colab-df-quickchart {\n",
       "      --bg-color: #3B4455;\n",
       "      --fill-color: #D2E3FC;\n",
       "      --hover-bg-color: #434B5C;\n",
       "      --hover-fill-color: #FFFFFF;\n",
       "      --disabled-bg-color: #3B4455;\n",
       "      --disabled-fill-color: #666;\n",
       "  }\n",
       "\n",
       "  .colab-df-quickchart {\n",
       "    background-color: var(--bg-color);\n",
       "    border: none;\n",
       "    border-radius: 50%;\n",
       "    cursor: pointer;\n",
       "    display: none;\n",
       "    fill: var(--fill-color);\n",
       "    height: 32px;\n",
       "    padding: 0;\n",
       "    width: 32px;\n",
       "  }\n",
       "\n",
       "  .colab-df-quickchart:hover {\n",
       "    background-color: var(--hover-bg-color);\n",
       "    box-shadow: 0 1px 2px rgba(60, 64, 67, 0.3), 0 1px 3px 1px rgba(60, 64, 67, 0.15);\n",
       "    fill: var(--button-hover-fill-color);\n",
       "  }\n",
       "\n",
       "  .colab-df-quickchart-complete:disabled,\n",
       "  .colab-df-quickchart-complete:disabled:hover {\n",
       "    background-color: var(--disabled-bg-color);\n",
       "    fill: var(--disabled-fill-color);\n",
       "    box-shadow: none;\n",
       "  }\n",
       "\n",
       "  .colab-df-spinner {\n",
       "    border: 2px solid var(--fill-color);\n",
       "    border-color: transparent;\n",
       "    border-bottom-color: var(--fill-color);\n",
       "    animation:\n",
       "      spin 1s steps(1) infinite;\n",
       "  }\n",
       "\n",
       "  @keyframes spin {\n",
       "    0% {\n",
       "      border-color: transparent;\n",
       "      border-bottom-color: var(--fill-color);\n",
       "      border-left-color: var(--fill-color);\n",
       "    }\n",
       "    20% {\n",
       "      border-color: transparent;\n",
       "      border-left-color: var(--fill-color);\n",
       "      border-top-color: var(--fill-color);\n",
       "    }\n",
       "    30% {\n",
       "      border-color: transparent;\n",
       "      border-left-color: var(--fill-color);\n",
       "      border-top-color: var(--fill-color);\n",
       "      border-right-color: var(--fill-color);\n",
       "    }\n",
       "    40% {\n",
       "      border-color: transparent;\n",
       "      border-right-color: var(--fill-color);\n",
       "      border-top-color: var(--fill-color);\n",
       "    }\n",
       "    60% {\n",
       "      border-color: transparent;\n",
       "      border-right-color: var(--fill-color);\n",
       "    }\n",
       "    80% {\n",
       "      border-color: transparent;\n",
       "      border-right-color: var(--fill-color);\n",
       "      border-bottom-color: var(--fill-color);\n",
       "    }\n",
       "    90% {\n",
       "      border-color: transparent;\n",
       "      border-bottom-color: var(--fill-color);\n",
       "    }\n",
       "  }\n",
       "</style>\n",
       "\n",
       "      <script>\n",
       "        async function quickchart(key) {\n",
       "          const quickchartButtonEl =\n",
       "            document.querySelector('#' + key + ' button');\n",
       "          quickchartButtonEl.disabled = true;  // To prevent multiple clicks.\n",
       "          quickchartButtonEl.classList.add('colab-df-spinner');\n",
       "          try {\n",
       "            const charts = await google.colab.kernel.invokeFunction(\n",
       "                'suggestCharts', [key], {});\n",
       "          } catch (error) {\n",
       "            console.error('Error during call to suggestCharts:', error);\n",
       "          }\n",
       "          quickchartButtonEl.classList.remove('colab-df-spinner');\n",
       "          quickchartButtonEl.classList.add('colab-df-quickchart-complete');\n",
       "        }\n",
       "        (() => {\n",
       "          let quickchartButtonEl =\n",
       "            document.querySelector('#df-eb09276a-c449-4f13-b94c-bdf7cddb3ed2 button');\n",
       "          quickchartButtonEl.style.display =\n",
       "            google.colab.kernel.accessAllowed ? 'block' : 'none';\n",
       "        })();\n",
       "      </script>\n",
       "    </div>\n",
       "\n",
       "  <div id=\"id_eb83b6e6-34f2-45d3-9bd3-fff1a7e2b95d\">\n",
       "    <style>\n",
       "      .colab-df-generate {\n",
       "        background-color: #E8F0FE;\n",
       "        border: none;\n",
       "        border-radius: 50%;\n",
       "        cursor: pointer;\n",
       "        display: none;\n",
       "        fill: #1967D2;\n",
       "        height: 32px;\n",
       "        padding: 0 0 0 0;\n",
       "        width: 32px;\n",
       "      }\n",
       "\n",
       "      .colab-df-generate:hover {\n",
       "        background-color: #E2EBFA;\n",
       "        box-shadow: 0px 1px 2px rgba(60, 64, 67, 0.3), 0px 1px 3px 1px rgba(60, 64, 67, 0.15);\n",
       "        fill: #174EA6;\n",
       "      }\n",
       "\n",
       "      [theme=dark] .colab-df-generate {\n",
       "        background-color: #3B4455;\n",
       "        fill: #D2E3FC;\n",
       "      }\n",
       "\n",
       "      [theme=dark] .colab-df-generate:hover {\n",
       "        background-color: #434B5C;\n",
       "        box-shadow: 0px 1px 3px 1px rgba(0, 0, 0, 0.15);\n",
       "        filter: drop-shadow(0px 1px 2px rgba(0, 0, 0, 0.3));\n",
       "        fill: #FFFFFF;\n",
       "      }\n",
       "    </style>\n",
       "    <button class=\"colab-df-generate\" onclick=\"generateWithVariable('df_excel_new_index')\"\n",
       "            title=\"Generate code using this dataframe.\"\n",
       "            style=\"display:none;\">\n",
       "\n",
       "  <svg xmlns=\"http://www.w3.org/2000/svg\" height=\"24px\"viewBox=\"0 0 24 24\"\n",
       "       width=\"24px\">\n",
       "    <path d=\"M7,19H8.4L18.45,9,17,7.55,7,17.6ZM5,21V16.75L18.45,3.32a2,2,0,0,1,2.83,0l1.4,1.43a1.91,1.91,0,0,1,.58,1.4,1.91,1.91,0,0,1-.58,1.4L9.25,21ZM18.45,9,17,7.55Zm-12,3A5.31,5.31,0,0,0,4.9,8.1,5.31,5.31,0,0,0,1,6.5,5.31,5.31,0,0,0,4.9,4.9,5.31,5.31,0,0,0,6.5,1,5.31,5.31,0,0,0,8.1,4.9,5.31,5.31,0,0,0,12,6.5,5.46,5.46,0,0,0,6.5,12Z\"/>\n",
       "  </svg>\n",
       "    </button>\n",
       "    <script>\n",
       "      (() => {\n",
       "      const buttonEl =\n",
       "        document.querySelector('#id_eb83b6e6-34f2-45d3-9bd3-fff1a7e2b95d button.colab-df-generate');\n",
       "      buttonEl.style.display =\n",
       "        google.colab.kernel.accessAllowed ? 'block' : 'none';\n",
       "\n",
       "      buttonEl.onclick = () => {\n",
       "        google.colab.notebook.generateWithVariable('df_excel_new_index');\n",
       "      }\n",
       "      })();\n",
       "    </script>\n",
       "  </div>\n",
       "\n",
       "    </div>\n",
       "  </div>\n"
      ],
      "text/plain": [
       "           latitude  housing_median_age  total_rooms  total_bedrooms  \\\n",
       "longitude                                                              \n",
       "-114.31       34.19                  15         5612            1283   \n",
       "-114.47       34.40                  19         7650            1901   \n",
       "-114.56       33.69                  17          720             174   \n",
       "-114.57       33.64                  14         1501             337   \n",
       "-114.57       33.57                  20         1454             326   \n",
       "...             ...                 ...          ...             ...   \n",
       "-124.26       40.58                  52         2217             394   \n",
       "-124.27       40.69                  36         2349             528   \n",
       "-124.30       41.84                  17         2677             531   \n",
       "-124.30       41.80                  19         2672             552   \n",
       "-124.35       40.54                  52         1820             300   \n",
       "\n",
       "           population  households  median_income  median_house_value  \n",
       "longitude                                                             \n",
       "-114.31          1015         472         1.4936               66900  \n",
       "-114.47          1129         463         1.8200               80100  \n",
       "-114.56           333         117         1.6509               85700  \n",
       "-114.57           515         226         3.1917               73400  \n",
       "-114.57           624         262         1.9250               65500  \n",
       "...               ...         ...            ...                 ...  \n",
       "-124.26           907         369         2.3571              111400  \n",
       "-124.27          1194         465         2.5179               79000  \n",
       "-124.30          1244         456         3.0313              103600  \n",
       "-124.30          1298         478         1.9797               85800  \n",
       "-124.35           806         270         3.0147               94600  \n",
       "\n",
       "[17000 rows x 8 columns]"
      ]
     },
     "execution_count": 23,
     "metadata": {},
     "output_type": "execute_result"
    }
   ],
   "source": [
    "df_excel_new_index=df_excel.set_index('longitude')\n",
    "df_excel_new_index"
   ]
  },
  {
   "cell_type": "markdown",
   "metadata": {
    "id": "LbUUW_J7K3Dt"
   },
   "source": [
    "## ***Pandas To Numpy***\n",
    "#### The method <font color='green'>to_numpy()</font> converts a DataFrame to a NumPy array. All values of the DataFrame are converted to a single type.  Unlike DataFrames, NumPy arrays are not indexed. The value for the -114.56 latitude is accessed with the <font color='green'>iloc</font> attribute."
   ]
  },
  {
   "cell_type": "code",
   "execution_count": null,
   "metadata": {
    "colab": {
     "base_uri": "https://localhost:8080/"
    },
    "id": "M5sf1oXCLsiy",
    "outputId": "667d3cb7-4788-4108-c59b-5dab50c0ae60"
   },
   "outputs": [
    {
     "data": {
      "text/plain": [
       "array([3.3690e+01, 1.7000e+01, 7.2000e+02, 1.7400e+02, 3.3300e+02,\n",
       "       1.1700e+02, 1.6509e+00, 8.5700e+04])"
      ]
     },
     "execution_count": 24,
     "metadata": {},
     "output_type": "execute_result"
    }
   ],
   "source": [
    "excel_numpy=df_excel_new_index.to_numpy()\n",
    "loc=df_excel_new_index.index.get_loc(-114.56)\n",
    "excel_numpy[loc]"
   ]
  },
  {
   "cell_type": "markdown",
   "metadata": {
    "id": "6RvMc449EOpC"
   },
   "source": [
    "## ***The apply() Method***\n",
    "#### The <font color='green'>apply()</font> function in Pandas is a versatile method used to apply a function along an axis of a DataFrame or to the values of a Series. It enables element-wise, row-wise, or column-wise operations using custom or built-in functions avoiding iterating through rows or columns.\n",
    "\n",
    "#### The <font color='green'>average_bedrooms()</font> function calculates the average number of bedrooms from the total number of bedrooms and households.\n",
    "\n",
    "```\n",
    "def average_bedrooms(total_num_bedrooms,total_num_households):\n",
    "  avg_bedrooms=total_num_bedrooms/total_num_households\n",
    "  return avg_bedrooms\n",
    "```\n",
    "#### <font color='green'>average_bedrooms()</font> is applied to each longitude (row) of the DataFrame <font color='green'>df_excel_new</font>. Using the anonymous lambda function allows the assignment of values in each row as arguments of the function.$^{5}$\n",
    "\n",
    "```\n",
    "df_excel_new_index['Average Bedrooms'] = df_excel_new_index.apply(\n",
    "    lambda row: average_bedrooms(\n",
    "        total_num_bedrooms=row['total_bedrooms'],  # 'total_bedrooms' accessed from the row\n",
    "        total_num_households=row['households']   # Access the 'households' value from the row\n",
    "         ), axis=1)                            #axis=1 indicates columns\n",
    "df_excel_new_index\n",
    "```\n",
    "\n",
    "#### In this example, the <font color='green'>apply()</font> method has the same effects as direct operation on the columns.\n",
    "\n",
    "\n",
    "\n",
    "```\n",
    "df_excel_new_index['Average Bedrooms']=df_exce_new_index['total_bedrooms']/df_excel_new_index['households']\n",
    "```\n",
    "\n",
    "\n",
    "\n",
    "---\n",
    "##### $^{5}$ For a discussion of lambda functions see <a href='https://colab.research.google.com/drive/125oeGZS-dlF4namW00LLREKElsr9dxsb?usp=drive_link'> Functions</a>.\n",
    "\n"
   ]
  },
  {
   "cell_type": "code",
   "execution_count": null,
   "metadata": {
    "id": "uQ25rp-ZMrHG"
   },
   "outputs": [],
   "source": [
    "def average_bedrooms(total_num_bedrooms,total_num_households):\n",
    "  avg_bedrooms=total_num_bedrooms/total_num_households\n",
    "  return avg_bedrooms"
   ]
  },
  {
   "cell_type": "code",
   "execution_count": null,
   "metadata": {
    "colab": {
     "base_uri": "https://localhost:8080/",
     "height": 455
    },
    "id": "qJlMo-8ldqeA",
    "outputId": "5cdb20cc-19a1-4877-8942-81d96a428959"
   },
   "outputs": [
    {
     "data": {
      "application/vnd.google.colaboratory.intrinsic+json": {
       "summary": "{\n  \"name\": \"df_excel_new_index\",\n  \"rows\": 17000,\n  \"fields\": [\n    {\n      \"column\": \"longitude\",\n      \"properties\": {\n        \"dtype\": \"number\",\n        \"std\": 2.005166408426173,\n        \"min\": -124.35,\n        \"max\": -114.31,\n        \"num_unique_values\": 827,\n        \"samples\": [\n          -117.56,\n          -123.32,\n          -118.26\n        ],\n        \"semantic_type\": \"\",\n        \"description\": \"\"\n      }\n    },\n    {\n      \"column\": \"latitude\",\n      \"properties\": {\n        \"dtype\": \"number\",\n        \"std\": 2.1373397946570734,\n        \"min\": 32.54,\n        \"max\": 41.95,\n        \"num_unique_values\": 840,\n        \"samples\": [\n          38.44,\n          40.79,\n          32.69\n        ],\n        \"semantic_type\": \"\",\n        \"description\": \"\"\n      }\n    },\n    {\n      \"column\": \"housing_median_age\",\n      \"properties\": {\n        \"dtype\": \"number\",\n        \"std\": 12,\n        \"min\": 1,\n        \"max\": 52,\n        \"num_unique_values\": 52,\n        \"samples\": [\n          23,\n          52,\n          47\n        ],\n        \"semantic_type\": \"\",\n        \"description\": \"\"\n      }\n    },\n    {\n      \"column\": \"total_rooms\",\n      \"properties\": {\n        \"dtype\": \"number\",\n        \"std\": 2179,\n        \"min\": 2,\n        \"max\": 37937,\n        \"num_unique_values\": 5533,\n        \"samples\": [\n          3564,\n          6955,\n          5451\n        ],\n        \"semantic_type\": \"\",\n        \"description\": \"\"\n      }\n    },\n    {\n      \"column\": \"total_bedrooms\",\n      \"properties\": {\n        \"dtype\": \"number\",\n        \"std\": 421,\n        \"min\": 1,\n        \"max\": 6445,\n        \"num_unique_values\": 1848,\n        \"samples\": [\n          729,\n          719,\n          2075\n        ],\n        \"semantic_type\": \"\",\n        \"description\": \"\"\n      }\n    },\n    {\n      \"column\": \"population\",\n      \"properties\": {\n        \"dtype\": \"number\",\n        \"std\": 1147,\n        \"min\": 3,\n        \"max\": 35682,\n        \"num_unique_values\": 3683,\n        \"samples\": [\n          249,\n          1735,\n          235\n        ],\n        \"semantic_type\": \"\",\n        \"description\": \"\"\n      }\n    },\n    {\n      \"column\": \"households\",\n      \"properties\": {\n        \"dtype\": \"number\",\n        \"std\": 384,\n        \"min\": 1,\n        \"max\": 6082,\n        \"num_unique_values\": 1740,\n        \"samples\": [\n          390,\n          1089,\n          1351\n        ],\n        \"semantic_type\": \"\",\n        \"description\": \"\"\n      }\n    },\n    {\n      \"column\": \"median_income\",\n      \"properties\": {\n        \"dtype\": \"number\",\n        \"std\": 1.908156518379093,\n        \"min\": 0.4999,\n        \"max\": 15.0001,\n        \"num_unique_values\": 11175,\n        \"samples\": [\n          7.2655,\n          5.6293,\n          4.2262\n        ],\n        \"semantic_type\": \"\",\n        \"description\": \"\"\n      }\n    },\n    {\n      \"column\": \"median_house_value\",\n      \"properties\": {\n        \"dtype\": \"number\",\n        \"std\": 115983,\n        \"min\": 14999,\n        \"max\": 500001,\n        \"num_unique_values\": 3694,\n        \"samples\": [\n          162300,\n          346800,\n          116700\n        ],\n        \"semantic_type\": \"\",\n        \"description\": \"\"\n      }\n    },\n    {\n      \"column\": \"Average Bedrooms\",\n      \"properties\": {\n        \"dtype\": \"number\",\n        \"std\": 0.48905722079732394,\n        \"min\": 0.3333333333333333,\n        \"max\": 34.06666666666667,\n        \"num_unique_values\": 12299,\n        \"samples\": [\n          0.952755905511811,\n          0.9538461538461539,\n          0.9466019417475728\n        ],\n        \"semantic_type\": \"\",\n        \"description\": \"\"\n      }\n    }\n  ]\n}",
       "type": "dataframe",
       "variable_name": "df_excel_new_index"
      },
      "text/html": [
       "\n",
       "  <div id=\"df-ee8211da-5bdc-4c0e-8f06-7afd2d023519\" class=\"colab-df-container\">\n",
       "    <div>\n",
       "<style scoped>\n",
       "    .dataframe tbody tr th:only-of-type {\n",
       "        vertical-align: middle;\n",
       "    }\n",
       "\n",
       "    .dataframe tbody tr th {\n",
       "        vertical-align: top;\n",
       "    }\n",
       "\n",
       "    .dataframe thead th {\n",
       "        text-align: right;\n",
       "    }\n",
       "</style>\n",
       "<table border=\"1\" class=\"dataframe\">\n",
       "  <thead>\n",
       "    <tr style=\"text-align: right;\">\n",
       "      <th></th>\n",
       "      <th>latitude</th>\n",
       "      <th>housing_median_age</th>\n",
       "      <th>total_rooms</th>\n",
       "      <th>total_bedrooms</th>\n",
       "      <th>population</th>\n",
       "      <th>households</th>\n",
       "      <th>median_income</th>\n",
       "      <th>median_house_value</th>\n",
       "      <th>Average Bedrooms</th>\n",
       "    </tr>\n",
       "    <tr>\n",
       "      <th>longitude</th>\n",
       "      <th></th>\n",
       "      <th></th>\n",
       "      <th></th>\n",
       "      <th></th>\n",
       "      <th></th>\n",
       "      <th></th>\n",
       "      <th></th>\n",
       "      <th></th>\n",
       "      <th></th>\n",
       "    </tr>\n",
       "  </thead>\n",
       "  <tbody>\n",
       "    <tr>\n",
       "      <th>-114.31</th>\n",
       "      <td>34.19</td>\n",
       "      <td>15</td>\n",
       "      <td>5612</td>\n",
       "      <td>1283</td>\n",
       "      <td>1015</td>\n",
       "      <td>472</td>\n",
       "      <td>1.4936</td>\n",
       "      <td>66900</td>\n",
       "      <td>2.718220</td>\n",
       "    </tr>\n",
       "    <tr>\n",
       "      <th>-114.47</th>\n",
       "      <td>34.40</td>\n",
       "      <td>19</td>\n",
       "      <td>7650</td>\n",
       "      <td>1901</td>\n",
       "      <td>1129</td>\n",
       "      <td>463</td>\n",
       "      <td>1.8200</td>\n",
       "      <td>80100</td>\n",
       "      <td>4.105832</td>\n",
       "    </tr>\n",
       "    <tr>\n",
       "      <th>-114.56</th>\n",
       "      <td>33.69</td>\n",
       "      <td>17</td>\n",
       "      <td>720</td>\n",
       "      <td>174</td>\n",
       "      <td>333</td>\n",
       "      <td>117</td>\n",
       "      <td>1.6509</td>\n",
       "      <td>85700</td>\n",
       "      <td>1.487179</td>\n",
       "    </tr>\n",
       "    <tr>\n",
       "      <th>-114.57</th>\n",
       "      <td>33.64</td>\n",
       "      <td>14</td>\n",
       "      <td>1501</td>\n",
       "      <td>337</td>\n",
       "      <td>515</td>\n",
       "      <td>226</td>\n",
       "      <td>3.1917</td>\n",
       "      <td>73400</td>\n",
       "      <td>1.491150</td>\n",
       "    </tr>\n",
       "    <tr>\n",
       "      <th>-114.57</th>\n",
       "      <td>33.57</td>\n",
       "      <td>20</td>\n",
       "      <td>1454</td>\n",
       "      <td>326</td>\n",
       "      <td>624</td>\n",
       "      <td>262</td>\n",
       "      <td>1.9250</td>\n",
       "      <td>65500</td>\n",
       "      <td>1.244275</td>\n",
       "    </tr>\n",
       "    <tr>\n",
       "      <th>...</th>\n",
       "      <td>...</td>\n",
       "      <td>...</td>\n",
       "      <td>...</td>\n",
       "      <td>...</td>\n",
       "      <td>...</td>\n",
       "      <td>...</td>\n",
       "      <td>...</td>\n",
       "      <td>...</td>\n",
       "      <td>...</td>\n",
       "    </tr>\n",
       "    <tr>\n",
       "      <th>-124.26</th>\n",
       "      <td>40.58</td>\n",
       "      <td>52</td>\n",
       "      <td>2217</td>\n",
       "      <td>394</td>\n",
       "      <td>907</td>\n",
       "      <td>369</td>\n",
       "      <td>2.3571</td>\n",
       "      <td>111400</td>\n",
       "      <td>1.067751</td>\n",
       "    </tr>\n",
       "    <tr>\n",
       "      <th>-124.27</th>\n",
       "      <td>40.69</td>\n",
       "      <td>36</td>\n",
       "      <td>2349</td>\n",
       "      <td>528</td>\n",
       "      <td>1194</td>\n",
       "      <td>465</td>\n",
       "      <td>2.5179</td>\n",
       "      <td>79000</td>\n",
       "      <td>1.135484</td>\n",
       "    </tr>\n",
       "    <tr>\n",
       "      <th>-124.30</th>\n",
       "      <td>41.84</td>\n",
       "      <td>17</td>\n",
       "      <td>2677</td>\n",
       "      <td>531</td>\n",
       "      <td>1244</td>\n",
       "      <td>456</td>\n",
       "      <td>3.0313</td>\n",
       "      <td>103600</td>\n",
       "      <td>1.164474</td>\n",
       "    </tr>\n",
       "    <tr>\n",
       "      <th>-124.30</th>\n",
       "      <td>41.80</td>\n",
       "      <td>19</td>\n",
       "      <td>2672</td>\n",
       "      <td>552</td>\n",
       "      <td>1298</td>\n",
       "      <td>478</td>\n",
       "      <td>1.9797</td>\n",
       "      <td>85800</td>\n",
       "      <td>1.154812</td>\n",
       "    </tr>\n",
       "    <tr>\n",
       "      <th>-124.35</th>\n",
       "      <td>40.54</td>\n",
       "      <td>52</td>\n",
       "      <td>1820</td>\n",
       "      <td>300</td>\n",
       "      <td>806</td>\n",
       "      <td>270</td>\n",
       "      <td>3.0147</td>\n",
       "      <td>94600</td>\n",
       "      <td>1.111111</td>\n",
       "    </tr>\n",
       "  </tbody>\n",
       "</table>\n",
       "<p>17000 rows × 9 columns</p>\n",
       "</div>\n",
       "    <div class=\"colab-df-buttons\">\n",
       "\n",
       "  <div class=\"colab-df-container\">\n",
       "    <button class=\"colab-df-convert\" onclick=\"convertToInteractive('df-ee8211da-5bdc-4c0e-8f06-7afd2d023519')\"\n",
       "            title=\"Convert this dataframe to an interactive table.\"\n",
       "            style=\"display:none;\">\n",
       "\n",
       "  <svg xmlns=\"http://www.w3.org/2000/svg\" height=\"24px\" viewBox=\"0 -960 960 960\">\n",
       "    <path d=\"M120-120v-720h720v720H120Zm60-500h600v-160H180v160Zm220 220h160v-160H400v160Zm0 220h160v-160H400v160ZM180-400h160v-160H180v160Zm440 0h160v-160H620v160ZM180-180h160v-160H180v160Zm440 0h160v-160H620v160Z\"/>\n",
       "  </svg>\n",
       "    </button>\n",
       "\n",
       "  <style>\n",
       "    .colab-df-container {\n",
       "      display:flex;\n",
       "      gap: 12px;\n",
       "    }\n",
       "\n",
       "    .colab-df-convert {\n",
       "      background-color: #E8F0FE;\n",
       "      border: none;\n",
       "      border-radius: 50%;\n",
       "      cursor: pointer;\n",
       "      display: none;\n",
       "      fill: #1967D2;\n",
       "      height: 32px;\n",
       "      padding: 0 0 0 0;\n",
       "      width: 32px;\n",
       "    }\n",
       "\n",
       "    .colab-df-convert:hover {\n",
       "      background-color: #E2EBFA;\n",
       "      box-shadow: 0px 1px 2px rgba(60, 64, 67, 0.3), 0px 1px 3px 1px rgba(60, 64, 67, 0.15);\n",
       "      fill: #174EA6;\n",
       "    }\n",
       "\n",
       "    .colab-df-buttons div {\n",
       "      margin-bottom: 4px;\n",
       "    }\n",
       "\n",
       "    [theme=dark] .colab-df-convert {\n",
       "      background-color: #3B4455;\n",
       "      fill: #D2E3FC;\n",
       "    }\n",
       "\n",
       "    [theme=dark] .colab-df-convert:hover {\n",
       "      background-color: #434B5C;\n",
       "      box-shadow: 0px 1px 3px 1px rgba(0, 0, 0, 0.15);\n",
       "      filter: drop-shadow(0px 1px 2px rgba(0, 0, 0, 0.3));\n",
       "      fill: #FFFFFF;\n",
       "    }\n",
       "  </style>\n",
       "\n",
       "    <script>\n",
       "      const buttonEl =\n",
       "        document.querySelector('#df-ee8211da-5bdc-4c0e-8f06-7afd2d023519 button.colab-df-convert');\n",
       "      buttonEl.style.display =\n",
       "        google.colab.kernel.accessAllowed ? 'block' : 'none';\n",
       "\n",
       "      async function convertToInteractive(key) {\n",
       "        const element = document.querySelector('#df-ee8211da-5bdc-4c0e-8f06-7afd2d023519');\n",
       "        const dataTable =\n",
       "          await google.colab.kernel.invokeFunction('convertToInteractive',\n",
       "                                                    [key], {});\n",
       "        if (!dataTable) return;\n",
       "\n",
       "        const docLinkHtml = 'Like what you see? Visit the ' +\n",
       "          '<a target=\"_blank\" href=https://colab.research.google.com/notebooks/data_table.ipynb>data table notebook</a>'\n",
       "          + ' to learn more about interactive tables.';\n",
       "        element.innerHTML = '';\n",
       "        dataTable['output_type'] = 'display_data';\n",
       "        await google.colab.output.renderOutput(dataTable, element);\n",
       "        const docLink = document.createElement('div');\n",
       "        docLink.innerHTML = docLinkHtml;\n",
       "        element.appendChild(docLink);\n",
       "      }\n",
       "    </script>\n",
       "  </div>\n",
       "\n",
       "\n",
       "    <div id=\"df-df0bc45d-702f-413f-a2f6-c35763771981\">\n",
       "      <button class=\"colab-df-quickchart\" onclick=\"quickchart('df-df0bc45d-702f-413f-a2f6-c35763771981')\"\n",
       "                title=\"Suggest charts\"\n",
       "                style=\"display:none;\">\n",
       "\n",
       "<svg xmlns=\"http://www.w3.org/2000/svg\" height=\"24px\"viewBox=\"0 0 24 24\"\n",
       "     width=\"24px\">\n",
       "    <g>\n",
       "        <path d=\"M19 3H5c-1.1 0-2 .9-2 2v14c0 1.1.9 2 2 2h14c1.1 0 2-.9 2-2V5c0-1.1-.9-2-2-2zM9 17H7v-7h2v7zm4 0h-2V7h2v10zm4 0h-2v-4h2v4z\"/>\n",
       "    </g>\n",
       "</svg>\n",
       "      </button>\n",
       "\n",
       "<style>\n",
       "  .colab-df-quickchart {\n",
       "      --bg-color: #E8F0FE;\n",
       "      --fill-color: #1967D2;\n",
       "      --hover-bg-color: #E2EBFA;\n",
       "      --hover-fill-color: #174EA6;\n",
       "      --disabled-fill-color: #AAA;\n",
       "      --disabled-bg-color: #DDD;\n",
       "  }\n",
       "\n",
       "  [theme=dark] .colab-df-quickchart {\n",
       "      --bg-color: #3B4455;\n",
       "      --fill-color: #D2E3FC;\n",
       "      --hover-bg-color: #434B5C;\n",
       "      --hover-fill-color: #FFFFFF;\n",
       "      --disabled-bg-color: #3B4455;\n",
       "      --disabled-fill-color: #666;\n",
       "  }\n",
       "\n",
       "  .colab-df-quickchart {\n",
       "    background-color: var(--bg-color);\n",
       "    border: none;\n",
       "    border-radius: 50%;\n",
       "    cursor: pointer;\n",
       "    display: none;\n",
       "    fill: var(--fill-color);\n",
       "    height: 32px;\n",
       "    padding: 0;\n",
       "    width: 32px;\n",
       "  }\n",
       "\n",
       "  .colab-df-quickchart:hover {\n",
       "    background-color: var(--hover-bg-color);\n",
       "    box-shadow: 0 1px 2px rgba(60, 64, 67, 0.3), 0 1px 3px 1px rgba(60, 64, 67, 0.15);\n",
       "    fill: var(--button-hover-fill-color);\n",
       "  }\n",
       "\n",
       "  .colab-df-quickchart-complete:disabled,\n",
       "  .colab-df-quickchart-complete:disabled:hover {\n",
       "    background-color: var(--disabled-bg-color);\n",
       "    fill: var(--disabled-fill-color);\n",
       "    box-shadow: none;\n",
       "  }\n",
       "\n",
       "  .colab-df-spinner {\n",
       "    border: 2px solid var(--fill-color);\n",
       "    border-color: transparent;\n",
       "    border-bottom-color: var(--fill-color);\n",
       "    animation:\n",
       "      spin 1s steps(1) infinite;\n",
       "  }\n",
       "\n",
       "  @keyframes spin {\n",
       "    0% {\n",
       "      border-color: transparent;\n",
       "      border-bottom-color: var(--fill-color);\n",
       "      border-left-color: var(--fill-color);\n",
       "    }\n",
       "    20% {\n",
       "      border-color: transparent;\n",
       "      border-left-color: var(--fill-color);\n",
       "      border-top-color: var(--fill-color);\n",
       "    }\n",
       "    30% {\n",
       "      border-color: transparent;\n",
       "      border-left-color: var(--fill-color);\n",
       "      border-top-color: var(--fill-color);\n",
       "      border-right-color: var(--fill-color);\n",
       "    }\n",
       "    40% {\n",
       "      border-color: transparent;\n",
       "      border-right-color: var(--fill-color);\n",
       "      border-top-color: var(--fill-color);\n",
       "    }\n",
       "    60% {\n",
       "      border-color: transparent;\n",
       "      border-right-color: var(--fill-color);\n",
       "    }\n",
       "    80% {\n",
       "      border-color: transparent;\n",
       "      border-right-color: var(--fill-color);\n",
       "      border-bottom-color: var(--fill-color);\n",
       "    }\n",
       "    90% {\n",
       "      border-color: transparent;\n",
       "      border-bottom-color: var(--fill-color);\n",
       "    }\n",
       "  }\n",
       "</style>\n",
       "\n",
       "      <script>\n",
       "        async function quickchart(key) {\n",
       "          const quickchartButtonEl =\n",
       "            document.querySelector('#' + key + ' button');\n",
       "          quickchartButtonEl.disabled = true;  // To prevent multiple clicks.\n",
       "          quickchartButtonEl.classList.add('colab-df-spinner');\n",
       "          try {\n",
       "            const charts = await google.colab.kernel.invokeFunction(\n",
       "                'suggestCharts', [key], {});\n",
       "          } catch (error) {\n",
       "            console.error('Error during call to suggestCharts:', error);\n",
       "          }\n",
       "          quickchartButtonEl.classList.remove('colab-df-spinner');\n",
       "          quickchartButtonEl.classList.add('colab-df-quickchart-complete');\n",
       "        }\n",
       "        (() => {\n",
       "          let quickchartButtonEl =\n",
       "            document.querySelector('#df-df0bc45d-702f-413f-a2f6-c35763771981 button');\n",
       "          quickchartButtonEl.style.display =\n",
       "            google.colab.kernel.accessAllowed ? 'block' : 'none';\n",
       "        })();\n",
       "      </script>\n",
       "    </div>\n",
       "\n",
       "  <div id=\"id_8e5c1698-40fe-4ff0-a532-8c7247c1df38\">\n",
       "    <style>\n",
       "      .colab-df-generate {\n",
       "        background-color: #E8F0FE;\n",
       "        border: none;\n",
       "        border-radius: 50%;\n",
       "        cursor: pointer;\n",
       "        display: none;\n",
       "        fill: #1967D2;\n",
       "        height: 32px;\n",
       "        padding: 0 0 0 0;\n",
       "        width: 32px;\n",
       "      }\n",
       "\n",
       "      .colab-df-generate:hover {\n",
       "        background-color: #E2EBFA;\n",
       "        box-shadow: 0px 1px 2px rgba(60, 64, 67, 0.3), 0px 1px 3px 1px rgba(60, 64, 67, 0.15);\n",
       "        fill: #174EA6;\n",
       "      }\n",
       "\n",
       "      [theme=dark] .colab-df-generate {\n",
       "        background-color: #3B4455;\n",
       "        fill: #D2E3FC;\n",
       "      }\n",
       "\n",
       "      [theme=dark] .colab-df-generate:hover {\n",
       "        background-color: #434B5C;\n",
       "        box-shadow: 0px 1px 3px 1px rgba(0, 0, 0, 0.15);\n",
       "        filter: drop-shadow(0px 1px 2px rgba(0, 0, 0, 0.3));\n",
       "        fill: #FFFFFF;\n",
       "      }\n",
       "    </style>\n",
       "    <button class=\"colab-df-generate\" onclick=\"generateWithVariable('df_excel_new_index')\"\n",
       "            title=\"Generate code using this dataframe.\"\n",
       "            style=\"display:none;\">\n",
       "\n",
       "  <svg xmlns=\"http://www.w3.org/2000/svg\" height=\"24px\"viewBox=\"0 0 24 24\"\n",
       "       width=\"24px\">\n",
       "    <path d=\"M7,19H8.4L18.45,9,17,7.55,7,17.6ZM5,21V16.75L18.45,3.32a2,2,0,0,1,2.83,0l1.4,1.43a1.91,1.91,0,0,1,.58,1.4,1.91,1.91,0,0,1-.58,1.4L9.25,21ZM18.45,9,17,7.55Zm-12,3A5.31,5.31,0,0,0,4.9,8.1,5.31,5.31,0,0,0,1,6.5,5.31,5.31,0,0,0,4.9,4.9,5.31,5.31,0,0,0,6.5,1,5.31,5.31,0,0,0,8.1,4.9,5.31,5.31,0,0,0,12,6.5,5.46,5.46,0,0,0,6.5,12Z\"/>\n",
       "  </svg>\n",
       "    </button>\n",
       "    <script>\n",
       "      (() => {\n",
       "      const buttonEl =\n",
       "        document.querySelector('#id_8e5c1698-40fe-4ff0-a532-8c7247c1df38 button.colab-df-generate');\n",
       "      buttonEl.style.display =\n",
       "        google.colab.kernel.accessAllowed ? 'block' : 'none';\n",
       "\n",
       "      buttonEl.onclick = () => {\n",
       "        google.colab.notebook.generateWithVariable('df_excel_new_index');\n",
       "      }\n",
       "      })();\n",
       "    </script>\n",
       "  </div>\n",
       "\n",
       "    </div>\n",
       "  </div>\n"
      ],
      "text/plain": [
       "           latitude  housing_median_age  total_rooms  total_bedrooms  \\\n",
       "longitude                                                              \n",
       "-114.31       34.19                  15         5612            1283   \n",
       "-114.47       34.40                  19         7650            1901   \n",
       "-114.56       33.69                  17          720             174   \n",
       "-114.57       33.64                  14         1501             337   \n",
       "-114.57       33.57                  20         1454             326   \n",
       "...             ...                 ...          ...             ...   \n",
       "-124.26       40.58                  52         2217             394   \n",
       "-124.27       40.69                  36         2349             528   \n",
       "-124.30       41.84                  17         2677             531   \n",
       "-124.30       41.80                  19         2672             552   \n",
       "-124.35       40.54                  52         1820             300   \n",
       "\n",
       "           population  households  median_income  median_house_value  \\\n",
       "longitude                                                              \n",
       "-114.31          1015         472         1.4936               66900   \n",
       "-114.47          1129         463         1.8200               80100   \n",
       "-114.56           333         117         1.6509               85700   \n",
       "-114.57           515         226         3.1917               73400   \n",
       "-114.57           624         262         1.9250               65500   \n",
       "...               ...         ...            ...                 ...   \n",
       "-124.26           907         369         2.3571              111400   \n",
       "-124.27          1194         465         2.5179               79000   \n",
       "-124.30          1244         456         3.0313              103600   \n",
       "-124.30          1298         478         1.9797               85800   \n",
       "-124.35           806         270         3.0147               94600   \n",
       "\n",
       "           Average Bedrooms  \n",
       "longitude                    \n",
       "-114.31            2.718220  \n",
       "-114.47            4.105832  \n",
       "-114.56            1.487179  \n",
       "-114.57            1.491150  \n",
       "-114.57            1.244275  \n",
       "...                     ...  \n",
       "-124.26            1.067751  \n",
       "-124.27            1.135484  \n",
       "-124.30            1.164474  \n",
       "-124.30            1.154812  \n",
       "-124.35            1.111111  \n",
       "\n",
       "[17000 rows x 9 columns]"
      ]
     },
     "execution_count": 26,
     "metadata": {},
     "output_type": "execute_result"
    }
   ],
   "source": [
    "df_excel_new_index['Average Bedrooms'] = df_excel_new_index.apply(\n",
    "    lambda row: average_bedrooms(\n",
    "        total_num_bedrooms=row['total_bedrooms'],  # 'total_bedrooms' value accessed from the row\n",
    "        total_num_households=row['households']   # Access the 'households' value from the row\n",
    "         ), axis=1)\n",
    "df_excel_new_index"
   ]
  },
  {
   "cell_type": "markdown",
   "metadata": {
    "id": "tnU-Yn4uaXuF"
   },
   "source": [
    "## ***The iterrows() Method***\n",
    "#### The <font color='green'>iterrows()</font> method of Pandas iterates over the rows of a DataFrame and returns a tuple of the row's values.  The example:\n",
    "\n",
    "```\n",
    "longitude_latitude=[(longitude,row['latitude']) for longitude,row in df_excel_new_index.iloc[:5].iterrows()]\n",
    "display(longitude_latitude)\n",
    "```\n",
    "#### Displays the longitude amd the latitude of the first five rows as a list of tuples.  The index is assigned to longitude and latitudge to the 'latitude' column of <font color='green'>df_excel_new_index</font>.  The list <font color='green'>longitude_latitude</font> is created with list comprehension of the two values.\n"
   ]
  },
  {
   "cell_type": "code",
   "execution_count": null,
   "metadata": {
    "colab": {
     "base_uri": "https://localhost:8080/",
     "height": 104
    },
    "id": "h-r9r7AbVoJb",
    "outputId": "4d12fbe7-6e8b-4376-9e44-841793bf2b0d"
   },
   "outputs": [
    {
     "data": {
      "text/plain": [
       "[(-114.31, np.float64(34.19)),\n",
       " (-114.47, np.float64(34.4)),\n",
       " (-114.56, np.float64(33.69)),\n",
       " (-114.57, np.float64(33.64)),\n",
       " (-114.57, np.float64(33.57))]"
      ]
     },
     "metadata": {},
     "output_type": "display_data"
    }
   ],
   "source": [
    "longitude_latitude=[(longitude,row['latitude']) for longitude,row in df_excel_new_index.iloc[:5].iterrows()]\n",
    "display(longitude_latitude)"
   ]
  },
  {
   "cell_type": "markdown",
   "metadata": {
    "id": "VJWDWKFVjxIq"
   },
   "source": [
    "## ***Pandas To Timestamp() Method***\n",
    "#### The Pandas <font color='green'>Timestamp()</font> is the Pandas equivalent of <font color='green'>datetime</font> and includes some useful attributes.  The example converts a <font color='green'>datetime</font> to a <font color='green'>Timestamp</font> and printing both values and several attributes of Pandas <font color='green'>Timestamp()</font>.$^{6}$\n",
    "\n",
    "\n",
    "---\n",
    "##### $^{6} For introduction to the datetime module see <a href='https://colab.research.google.com/drive/1ebkxsEmh7S0LgH3HUjF6vwy59sxbRcIk?usp=drive_link'>Manipulating Dates</a>.\n"
   ]
  },
  {
   "cell_type": "code",
   "execution_count": null,
   "metadata": {
    "colab": {
     "base_uri": "https://localhost:8080/"
    },
    "id": "YEIs6PxgJMjr",
    "outputId": "c2349bc8-29dc-4403-d32c-38e114244325"
   },
   "outputs": [
    {
     "data": {
      "text/plain": [
       "(Timestamp('2025-01-21 00:00:00'),\n",
       " datetime.datetime(2025, 1, 21, 0, 0),\n",
       " 1,\n",
       " False)"
      ]
     },
     "execution_count": 28,
     "metadata": {},
     "output_type": "execute_result"
    }
   ],
   "source": [
    "from datetime import datetime\n",
    "date_time=datetime(2025,1,21)\n",
    "pandas_time_stamp=pd.Timestamp(date_time)\n",
    "pandas_time_stamp,date_time,pandas_time_stamp.day_of_week,pandas_time_stamp.is_month_end"
   ]
  },
  {
   "cell_type": "markdown",
   "metadata": {
    "id": "7RRLX5Eoml50"
   },
   "source": [
    "## ***Pandas duplicated() Method***\n",
    "#### Duplicated rows of a DataFrame or values of a Series can be determined with the <font color='green'>duplicated()</font> method.  By default the first occurence of a duplicated value is marked as False and all others are marked as True.  Here the method is applied to the index of the first ten rows of <font color='green'>df_excel_new_index</font>."
   ]
  },
  {
   "cell_type": "code",
   "execution_count": null,
   "metadata": {
    "colab": {
     "base_uri": "https://localhost:8080/",
     "height": 104
    },
    "id": "N72fYSTko0tv",
    "outputId": "ee7e457e-61c6-4d8f-8b85-6b300a41410a"
   },
   "outputs": [
    {
     "data": {
      "text/plain": [
       "array([False, False, False, False,  True, False,  True, False,  True,\n",
       "       False])"
      ]
     },
     "metadata": {},
     "output_type": "display_data"
    },
    {
     "data": {
      "text/plain": [
       "Index([-114.31, -114.47, -114.56, -114.57, -114.57, -114.58, -114.58, -114.59,\n",
       "       -114.59,  -114.6],\n",
       "      dtype='float64', name='longitude')"
      ]
     },
     "metadata": {},
     "output_type": "display_data"
    }
   ],
   "source": [
    "display(df_excel_new_index.iloc[0:10].index.duplicated())\n",
    "display(df_excel_new_index.iloc[0:10].index)"
   ]
  },
  {
   "cell_type": "markdown",
   "metadata": {
    "id": "JyxtBgAfqQy8"
   },
   "source": [
    "## ***Negate A Pandas Value With ~***\n",
    "#### If you want to only keep unique values, it makes sense to negate the values returned from <font color='green'>duplicated()</font>."
   ]
  },
  {
   "cell_type": "code",
   "execution_count": null,
   "metadata": {
    "colab": {
     "base_uri": "https://localhost:8080/",
     "height": 34
    },
    "id": "YiPhkeBXqdG_",
    "outputId": "3afea5d0-686f-49e3-95de-7ee9547142c4"
   },
   "outputs": [
    {
     "data": {
      "text/plain": [
       "Index([-114.31, -114.47, -114.56, -114.57, -114.58, -114.59, -114.6], dtype='float64', name='longitude')"
      ]
     },
     "metadata": {},
     "output_type": "display_data"
    }
   ],
   "source": [
    "first_occurence=(~df_excel_new_index.iloc[0:10].index.duplicated())\n",
    "display(df_excel_new_index.iloc[0:10].index[first_occurence])"
   ]
  }
 ],
 "metadata": {
  "colab": {
   "provenance": []
  },
  "kernelspec": {
   "display_name": "Python 3 (ipykernel)",
   "language": "python",
   "name": "python3"
  },
  "language_info": {
   "codemirror_mode": {
    "name": "ipython",
    "version": 3
   },
   "file_extension": ".py",
   "mimetype": "text/x-python",
   "name": "python",
   "nbconvert_exporter": "python",
   "pygments_lexer": "ipython3",
   "version": "3.9.7"
  }
 },
 "nbformat": 4,
 "nbformat_minor": 4
}